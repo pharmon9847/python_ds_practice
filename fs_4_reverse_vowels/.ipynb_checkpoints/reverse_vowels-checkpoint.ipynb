{
 "cells": [
  {
   "cell_type": "code",
   "execution_count": 1,
   "id": "f42203f6-53dd-4182-9e4f-1dcdaa8ec32b",
   "metadata": {},
   "outputs": [],
   "source": [
    "def reverse_vowels(s):\n",
    "    \"\"\"Reverse vowels in a string.\n",
    "\n",
    "    Characters which re not vowels do not change position in string, but all\n",
    "    vowels (y is not a vowel), should reverse their order.\n",
    "\n",
    "    >>> reverse_vowels(\"Hello!\")\n",
    "    'Holle!'\n",
    "\n",
    "    >>> reverse_vowels(\"Tomatoes\")\n",
    "    'Temotaos'\n",
    "\n",
    "    >>> reverse_vowels(\"Reverse Vowels In A String\")\n",
    "    'RivArsI Vewols en e Streng'\n",
    "\n",
    "    reverse_vowels(\"aeiou\")\n",
    "    'uoiea'\n",
    "\n",
    "    reverse_vowels(\"why try, shy fly?\")\n",
    "    'why try, shy fly?''\n",
    "    \"\"\"\n",
    "    \n",
    "    vowels = set('aeiou')\n",
    "    \n",
    "    string = list(s)\n",
    "    \n",
    "    x = 0\n",
    "    \n",
    "    z = len(s) - 1\n",
    "    \n",
    "    while x < z:\n",
    "        if string[x].lower() not in vowels:\n",
    "            x += 1\n",
    "        elif string[z].lower() not in vowels:\n",
    "            z -= 1\n",
    "        else:\n",
    "            string[x], string[z] = string[z], string[x]\n",
    "            x += 1\n",
    "            z -= 1\n",
    "            \n",
    "    return ''.join(string)"
   ]
  },
  {
   "cell_type": "code",
   "execution_count": 2,
   "id": "c7375d2d-cfe4-4b46-be7c-b61ede85a463",
   "metadata": {
    "tags": []
   },
   "outputs": [
    {
     "data": {
      "text/plain": [
       "'Holle!'"
      ]
     },
     "execution_count": 2,
     "metadata": {},
     "output_type": "execute_result"
    }
   ],
   "source": [
    "reverse_vowels(\"Hello!\")"
   ]
  },
  {
   "cell_type": "code",
   "execution_count": 3,
   "id": "d0841764-d191-4757-ae61-774d84f6f7f4",
   "metadata": {
    "tags": []
   },
   "outputs": [
    {
     "data": {
      "text/plain": [
       "'Temotaos'"
      ]
     },
     "execution_count": 3,
     "metadata": {},
     "output_type": "execute_result"
    }
   ],
   "source": [
    "reverse_vowels(\"Tomatoes\")"
   ]
  },
  {
   "cell_type": "code",
   "execution_count": 4,
   "id": "5aa37747-abbf-4bd4-b718-cfcdba30dd4d",
   "metadata": {
    "tags": []
   },
   "outputs": [
    {
     "data": {
      "text/plain": [
       "'RivArsI Vewols en e Streng'"
      ]
     },
     "execution_count": 4,
     "metadata": {},
     "output_type": "execute_result"
    }
   ],
   "source": [
    "reverse_vowels(\"Reverse Vowels In A String\")"
   ]
  },
  {
   "cell_type": "code",
   "execution_count": 5,
   "id": "0c832219-5c6b-4bc7-bbef-e8e5657390fa",
   "metadata": {
    "tags": []
   },
   "outputs": [
    {
     "data": {
      "text/plain": [
       "'uoiea'"
      ]
     },
     "execution_count": 5,
     "metadata": {},
     "output_type": "execute_result"
    }
   ],
   "source": [
    "reverse_vowels(\"aeiou\")"
   ]
  },
  {
   "cell_type": "code",
   "execution_count": 6,
   "id": "a7ccae69-6480-4757-b7f0-eb0d6e79ef74",
   "metadata": {
    "tags": []
   },
   "outputs": [
    {
     "data": {
      "text/plain": [
       "'why try, shy fly?'"
      ]
     },
     "execution_count": 6,
     "metadata": {},
     "output_type": "execute_result"
    }
   ],
   "source": [
    "reverse_vowels(\"why try, shy fly?\")"
   ]
  }
 ],
 "metadata": {
  "kernelspec": {
   "display_name": "Python 3 (ipykernel)",
   "language": "python",
   "name": "python3"
  },
  "language_info": {
   "codemirror_mode": {
    "name": "ipython",
    "version": 3
   },
   "file_extension": ".py",
   "mimetype": "text/x-python",
   "name": "python",
   "nbconvert_exporter": "python",
   "pygments_lexer": "ipython3",
   "version": "3.11.5"
  }
 },
 "nbformat": 4,
 "nbformat_minor": 5
}
