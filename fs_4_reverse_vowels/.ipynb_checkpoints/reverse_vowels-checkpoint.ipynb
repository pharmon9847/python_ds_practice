{
 "cells": [
  {
   "cell_type": "code",
   "execution_count": null,
   "id": "f42203f6-53dd-4182-9e4f-1dcdaa8ec32b",
   "metadata": {},
   "outputs": [],
   "source": [
    "def reverse_vowels(s):\n",
    "    \"\"\"Reverse vowels in a string.\n",
    "\n",
    "    Characters which re not vowels do not change position in string, but all\n",
    "    vowels (y is not a vowel), should reverse their order.\n",
    "\n",
    "    >>> reverse_vowels(\"Hello!\")\n",
    "    'Holle!'\n",
    "\n",
    "    >>> reverse_vowels(\"Tomatoes\")\n",
    "    'Temotaos'\n",
    "\n",
    "    >>> reverse_vowels(\"Reverse Vowels In A String\")\n",
    "    'RivArsI Vewols en e Streng'\n",
    "\n",
    "    reverse_vowels(\"aeiou\")\n",
    "    'uoiea'\n",
    "\n",
    "    reverse_vowels(\"why try, shy fly?\")\n",
    "    'why try, shy fly?''\n",
    "    \"\"\""
   ]
  }
 ],
 "metadata": {
  "kernelspec": {
   "display_name": "Python 3 (ipykernel)",
   "language": "python",
   "name": "python3"
  },
  "language_info": {
   "codemirror_mode": {
    "name": "ipython",
    "version": 3
   },
   "file_extension": ".py",
   "mimetype": "text/x-python",
   "name": "python",
   "nbconvert_exporter": "python",
   "pygments_lexer": "ipython3",
   "version": "3.11.5"
  }
 },
 "nbformat": 4,
 "nbformat_minor": 5
}
