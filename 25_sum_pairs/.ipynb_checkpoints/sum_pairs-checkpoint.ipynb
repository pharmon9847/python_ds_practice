{
 "cells": [
  {
   "cell_type": "code",
   "execution_count": 3,
   "id": "08b9397c-80e1-4916-9586-f9f2e4f09a2a",
   "metadata": {},
   "outputs": [],
   "source": [
    "def sum_pairs(nums, goal):\n",
    "    \"\"\"Return tuple of first pair of nums that sum to goal.\n",
    "\n",
    "    For example:\n",
    "\n",
    "        >>> sum_pairs([1, 2, 2, 10], 4)\n",
    "        (2, 2)\n",
    "\n",
    "    (4, 2) sum to 6, and come before (5, 1):\n",
    "\n",
    "        >>> sum_pairs([4, 2, 10, 5, 1], 6) # (4, 2)\n",
    "        (4, 2)\n",
    "\n",
    "    (4, 3) sum to 7, and finish before (5, 2):\n",
    "\n",
    "        >>> sum_pairs([5, 1, 4, 8, 3, 2], 7)\n",
    "        (4, 3)\n",
    "\n",
    "    No pairs sum to 100, so return empty tuple:\n",
    "\n",
    "        >>> sum_pairs([11, 20, 4, 2, 1, 5], 100)\n",
    "        ()\n",
    "    \"\"\"\n",
    "    already_counted = set()\n",
    "    \n",
    "    for num in nums:\n",
    "        difference = goal - num\n",
    "        \n",
    "        if difference in already_counted:\n",
    "            return (difference, num)\n",
    "        \n",
    "        already_counted.add(num)\n",
    "    \n",
    "    return ()"
   ]
  },
  {
   "cell_type": "code",
   "execution_count": 4,
   "id": "10657307-de19-4fe5-9b8f-4b97fb9ac029",
   "metadata": {
    "tags": []
   },
   "outputs": [
    {
     "data": {
      "text/plain": [
       "(2, 2)"
      ]
     },
     "execution_count": 4,
     "metadata": {},
     "output_type": "execute_result"
    }
   ],
   "source": [
    " sum_pairs([1, 2, 2, 10], 4)"
   ]
  },
  {
   "cell_type": "code",
   "execution_count": 5,
   "id": "3b6757d4-3233-4b9d-88b9-b56de716f2a8",
   "metadata": {
    "tags": []
   },
   "outputs": [
    {
     "data": {
      "text/plain": [
       "(4, 3)"
      ]
     },
     "execution_count": 5,
     "metadata": {},
     "output_type": "execute_result"
    }
   ],
   "source": [
    "sum_pairs([5, 1, 4, 8, 3, 2], 7)"
   ]
  },
  {
   "cell_type": "code",
   "execution_count": 6,
   "id": "5d68040f-b437-4fc5-9622-6d9fa7b595fc",
   "metadata": {
    "tags": []
   },
   "outputs": [
    {
     "data": {
      "text/plain": [
       "()"
      ]
     },
     "execution_count": 6,
     "metadata": {},
     "output_type": "execute_result"
    }
   ],
   "source": [
    "sum_pairs([11, 20, 4, 2, 1, 5], 100)"
   ]
  }
 ],
 "metadata": {
  "kernelspec": {
   "display_name": "Python 3 (ipykernel)",
   "language": "python",
   "name": "python3"
  },
  "language_info": {
   "codemirror_mode": {
    "name": "ipython",
    "version": 3
   },
   "file_extension": ".py",
   "mimetype": "text/x-python",
   "name": "python",
   "nbconvert_exporter": "python",
   "pygments_lexer": "ipython3",
   "version": "3.11.5"
  }
 },
 "nbformat": 4,
 "nbformat_minor": 5
}
