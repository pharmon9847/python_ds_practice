{
 "cells": [
  {
   "cell_type": "code",
   "execution_count": null,
   "id": "08b9397c-80e1-4916-9586-f9f2e4f09a2a",
   "metadata": {},
   "outputs": [],
   "source": [
    "def sum_pairs(nums, goal):\n",
    "    \"\"\"Return tuple of first pair of nums that sum to goal.\n",
    "\n",
    "    For example:\n",
    "\n",
    "        >>> sum_pairs([1, 2, 2, 10], 4)\n",
    "        (2, 2)\n",
    "\n",
    "    (4, 2) sum to 6, and come before (5, 1):\n",
    "\n",
    "        >>> sum_pairs([4, 2, 10, 5, 1], 6) # (4, 2)\n",
    "        (4, 2)\n",
    "\n",
    "    (4, 3) sum to 7, and finish before (5, 2):\n",
    "\n",
    "        >>> sum_pairs([5, 1, 4, 8, 3, 2], 7)\n",
    "        (4, 3)\n",
    "\n",
    "    No pairs sum to 100, so return empty tuple:\n",
    "\n",
    "        >>> sum_pairs([11, 20, 4, 2, 1, 5], 100)\n",
    "        ()\n",
    "    \"\"\"\n"
   ]
  }
 ],
 "metadata": {
  "kernelspec": {
   "display_name": "Python 3 (ipykernel)",
   "language": "python",
   "name": "python3"
  },
  "language_info": {
   "codemirror_mode": {
    "name": "ipython",
    "version": 3
   },
   "file_extension": ".py",
   "mimetype": "text/x-python",
   "name": "python",
   "nbconvert_exporter": "python",
   "pygments_lexer": "ipython3",
   "version": "3.11.5"
  }
 },
 "nbformat": 4,
 "nbformat_minor": 5
}
