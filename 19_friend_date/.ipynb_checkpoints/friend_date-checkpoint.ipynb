{
 "cells": [
  {
   "cell_type": "code",
   "execution_count": 10,
   "id": "40fe1493-2a61-4916-8d65-05109a98ec0e",
   "metadata": {},
   "outputs": [],
   "source": [
    "def friend_date(a, b):\n",
    "    \"\"\"Given two friends, do they have any hobbies in common?\n",
    "\n",
    "    - a: friend #1, a tuple of (name, age, list-of-hobbies)\n",
    "    - b: same, for friend #2\n",
    "\n",
    "    Returns True if they have any hobbies in common, False is not.\n",
    "\n",
    "        >>> elmo = ('Elmo', 5, ['hugging', 'being nice'])\n",
    "        >>> sauron = ('Sauron', 5000, ['killing hobbits', 'chess'])\n",
    "        >>> gandalf = ('Gandalf', 10000, ['waving wands', 'chess'])\n",
    "\n",
    "        >>> friend_date(elmo, sauron)\n",
    "        False\n",
    "\n",
    "        >>> friend_date(sauron, gandalf)\n",
    "        True\n",
    "    \"\"\"\n",
    "    if set(a[2]) & set(b[2]):\n",
    "        return True\n",
    "    else:\n",
    "        return False"
   ]
  },
  {
   "cell_type": "code",
   "execution_count": 11,
   "id": "e5de6fa9-272d-466a-9b10-61048673f9ab",
   "metadata": {
    "tags": []
   },
   "outputs": [
    {
     "data": {
      "text/plain": [
       "False"
      ]
     },
     "execution_count": 11,
     "metadata": {},
     "output_type": "execute_result"
    }
   ],
   "source": [
    "elmo = ('Elmo', 5, ['hugging', 'being nice'])\n",
    "sauron = ('Sauron', 5000, ['killing hobbits', 'chess'])\n",
    "gandalf = ('Gandalf', 10000, ['waving wands', 'chess'])\n",
    "\n",
    "friend_date(elmo, sauron)"
   ]
  },
  {
   "cell_type": "code",
   "execution_count": 12,
   "id": "899a01c8-939e-4298-bc55-8ca6646f3984",
   "metadata": {
    "tags": []
   },
   "outputs": [
    {
     "data": {
      "text/plain": [
       "True"
      ]
     },
     "execution_count": 12,
     "metadata": {},
     "output_type": "execute_result"
    }
   ],
   "source": [
    "friend_date(sauron, gandalf)"
   ]
  }
 ],
 "metadata": {
  "kernelspec": {
   "display_name": "Python 3 (ipykernel)",
   "language": "python",
   "name": "python3"
  },
  "language_info": {
   "codemirror_mode": {
    "name": "ipython",
    "version": 3
   },
   "file_extension": ".py",
   "mimetype": "text/x-python",
   "name": "python",
   "nbconvert_exporter": "python",
   "pygments_lexer": "ipython3",
   "version": "3.11.5"
  }
 },
 "nbformat": 4,
 "nbformat_minor": 5
}
