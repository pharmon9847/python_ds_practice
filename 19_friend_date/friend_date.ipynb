{
 "cells": [
  {
   "cell_type": "code",
   "execution_count": null,
   "id": "40fe1493-2a61-4916-8d65-05109a98ec0e",
   "metadata": {},
   "outputs": [],
   "source": [
    "def friend_date(a, b):\n",
    "    \"\"\"Given two friends, do they have any hobbies in common?\n",
    "\n",
    "    - a: friend #1, a tuple of (name, age, list-of-hobbies)\n",
    "    - b: same, for friend #2\n",
    "\n",
    "    Returns True if they have any hobbies in common, False is not.\n",
    "\n",
    "        >>> elmo = ('Elmo', 5, ['hugging', 'being nice'])\n",
    "        >>> sauron = ('Sauron', 5000, ['killing hobbits', 'chess'])\n",
    "        >>> gandalf = ('Gandalf', 10000, ['waving wands', 'chess'])\n",
    "\n",
    "        >>> friend_date(elmo, sauron)\n",
    "        False\n",
    "\n",
    "        >>> friend_date(sauron, gandalf)\n",
    "        True\n",
    "    \"\"\""
   ]
  }
 ],
 "metadata": {
  "kernelspec": {
   "display_name": "Python 3 (ipykernel)",
   "language": "python",
   "name": "python3"
  },
  "language_info": {
   "codemirror_mode": {
    "name": "ipython",
    "version": 3
   },
   "file_extension": ".py",
   "mimetype": "text/x-python",
   "name": "python",
   "nbconvert_exporter": "python",
   "pygments_lexer": "ipython3",
   "version": "3.11.5"
  }
 },
 "nbformat": 4,
 "nbformat_minor": 5
}
