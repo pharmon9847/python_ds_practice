{
 "cells": [
  {
   "cell_type": "code",
   "execution_count": null,
   "metadata": {},
   "outputs": [],
   "source": [
    "def multiply_even_numbers(nums):\n",
    "    \"\"\"Multiply the even numbers.\n",
    "    \n",
    "        >>> multiply_even_numbers([2, 3, 4, 5, 6])\n",
    "        48\n",
    "        \n",
    "        >>> multiply_even_numbers([3, 4, 5])\n",
    "        4\n",
    "        \n",
    "    If there are no even numbers, return 1.\n",
    "    \n",
    "        >>> multiply_even_numbers([1, 3, 5])\n",
    "        1\n",
    "    \"\"\""
   ]
  }
 ],
 "metadata": {
  "kernelspec": {
   "display_name": "Python 3",
   "language": "python",
   "name": "python3"
  },
  "language_info": {
   "codemirror_mode": {
    "name": "ipython",
    "version": 3
   },
   "file_extension": ".py",
   "mimetype": "text/x-python",
   "name": "python",
   "nbconvert_exporter": "python",
   "pygments_lexer": "ipython3",
   "version": "3.7.4"
  }
 },
 "nbformat": 4,
 "nbformat_minor": 2
}
