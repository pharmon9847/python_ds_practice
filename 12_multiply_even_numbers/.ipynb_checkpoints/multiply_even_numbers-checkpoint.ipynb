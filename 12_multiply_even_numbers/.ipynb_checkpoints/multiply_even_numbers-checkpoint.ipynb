{
 "cells": [
  {
   "cell_type": "code",
   "execution_count": 4,
   "metadata": {},
   "outputs": [],
   "source": [
    "def multiply_even_numbers(nums):\n",
    "    \"\"\"Multiply the even numbers.\n",
    "    \n",
    "        >>> multiply_even_numbers([2, 3, 4, 5, 6])\n",
    "        48\n",
    "        \n",
    "        >>> multiply_even_numbers([3, 4, 5])\n",
    "        4\n",
    "        \n",
    "    If there are no even numbers, return 1.\n",
    "    \n",
    "        >>> multiply_even_numbers([1, 3, 5])\n",
    "        1\n",
    "    \"\"\"\n",
    "    end_result = 1\n",
    "    \n",
    "    for num in nums:\n",
    "        if num % 2 == 0:\n",
    "            end_result = end_result * num\n",
    "            \n",
    "    return end_result"
   ]
  },
  {
   "cell_type": "code",
   "execution_count": 5,
   "metadata": {
    "tags": []
   },
   "outputs": [
    {
     "data": {
      "text/plain": [
       "48"
      ]
     },
     "execution_count": 5,
     "metadata": {},
     "output_type": "execute_result"
    }
   ],
   "source": [
    "multiply_even_numbers([2, 3, 4, 5, 6])"
   ]
  },
  {
   "cell_type": "code",
   "execution_count": 6,
   "metadata": {
    "tags": []
   },
   "outputs": [
    {
     "data": {
      "text/plain": [
       "4"
      ]
     },
     "execution_count": 6,
     "metadata": {},
     "output_type": "execute_result"
    }
   ],
   "source": [
    " multiply_even_numbers([3, 4, 5])"
   ]
  },
  {
   "cell_type": "code",
   "execution_count": 7,
   "metadata": {
    "tags": []
   },
   "outputs": [
    {
     "data": {
      "text/plain": [
       "1"
      ]
     },
     "execution_count": 7,
     "metadata": {},
     "output_type": "execute_result"
    }
   ],
   "source": [
    "multiply_even_numbers([1, 3, 5])"
   ]
  }
 ],
 "metadata": {
  "kernelspec": {
   "display_name": "Python 3 (ipykernel)",
   "language": "python",
   "name": "python3"
  },
  "language_info": {
   "codemirror_mode": {
    "name": "ipython",
    "version": 3
   },
   "file_extension": ".py",
   "mimetype": "text/x-python",
   "name": "python",
   "nbconvert_exporter": "python",
   "pygments_lexer": "ipython3",
   "version": "3.11.5"
  }
 },
 "nbformat": 4,
 "nbformat_minor": 4
}
