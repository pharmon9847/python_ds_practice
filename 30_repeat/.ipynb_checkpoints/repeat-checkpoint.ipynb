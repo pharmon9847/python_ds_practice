{
 "cells": [
  {
   "cell_type": "code",
   "execution_count": null,
   "id": "feb6a28c-a877-4ed8-87d6-c0cd01f97a8d",
   "metadata": {},
   "outputs": [],
   "source": [
    "def repeat(phrase, num):\n",
    "    \"\"\"Return phrase, repeated num times.\n",
    "\n",
    "        >>> repeat('*', 3)\n",
    "        '***'\n",
    "\n",
    "        >>> repeat('abc', 2)\n",
    "        'abcabc'\n",
    "\n",
    "        >>> repeat('abc', 0)\n",
    "        ''\n",
    "\n",
    "    Ignore illegal values of num and return None:\n",
    "\n",
    "        >>> repeat('abc', -1) is None\n",
    "        True\n",
    "\n",
    "        >>> repeat('abc', 'nope') is None\n",
    "        True\n",
    "    \"\"\"\n"
   ]
  }
 ],
 "metadata": {
  "kernelspec": {
   "display_name": "Python 3 (ipykernel)",
   "language": "python",
   "name": "python3"
  },
  "language_info": {
   "codemirror_mode": {
    "name": "ipython",
    "version": 3
   },
   "file_extension": ".py",
   "mimetype": "text/x-python",
   "name": "python",
   "nbconvert_exporter": "python",
   "pygments_lexer": "ipython3",
   "version": "3.11.5"
  }
 },
 "nbformat": 4,
 "nbformat_minor": 5
}
