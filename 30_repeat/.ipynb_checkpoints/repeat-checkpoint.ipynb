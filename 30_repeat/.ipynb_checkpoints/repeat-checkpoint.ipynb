{
 "cells": [
  {
   "cell_type": "code",
   "execution_count": 6,
   "id": "feb6a28c-a877-4ed8-87d6-c0cd01f97a8d",
   "metadata": {},
   "outputs": [],
   "source": [
    "def repeat(phrase, num):\n",
    "    \"\"\"Return phrase, repeated num times.\n",
    "\n",
    "        >>> repeat('*', 3)\n",
    "        '***'\n",
    "\n",
    "        >>> repeat('abc', 2)\n",
    "        'abcabc'\n",
    "\n",
    "        >>> repeat('abc', 0)\n",
    "        ''\n",
    "\n",
    "    Ignore illegal values of num and return None:\n",
    "\n",
    "        >>> repeat('abc', -1) is None\n",
    "        True\n",
    "\n",
    "        >>> repeat('abc', 'nope') is None\n",
    "        True\n",
    "    \"\"\"\n",
    "    \n",
    "    if not isinstance(num, int) or num < 0:\n",
    "        return None\n",
    "    \n",
    "    return phrase * num"
   ]
  },
  {
   "cell_type": "code",
   "execution_count": 7,
   "id": "a564effd-dcd4-48ba-894b-1c9b51457782",
   "metadata": {
    "tags": []
   },
   "outputs": [
    {
     "data": {
      "text/plain": [
       "'***'"
      ]
     },
     "execution_count": 7,
     "metadata": {},
     "output_type": "execute_result"
    }
   ],
   "source": [
    "repeat('*', 3)"
   ]
  },
  {
   "cell_type": "code",
   "execution_count": 8,
   "id": "84dd79ef-7a44-4b46-8fd4-ea7f5abd2010",
   "metadata": {
    "tags": []
   },
   "outputs": [
    {
     "data": {
      "text/plain": [
       "'abcabc'"
      ]
     },
     "execution_count": 8,
     "metadata": {},
     "output_type": "execute_result"
    }
   ],
   "source": [
    "repeat('abc', 2)"
   ]
  },
  {
   "cell_type": "code",
   "execution_count": 9,
   "id": "f5201d61-4221-486f-b363-571829394bcd",
   "metadata": {
    "tags": []
   },
   "outputs": [
    {
     "data": {
      "text/plain": [
       "''"
      ]
     },
     "execution_count": 9,
     "metadata": {},
     "output_type": "execute_result"
    }
   ],
   "source": [
    "repeat('abc', 0)"
   ]
  },
  {
   "cell_type": "code",
   "execution_count": 11,
   "id": "868c3c7e-923c-4c44-9e48-ba664365576e",
   "metadata": {
    "tags": []
   },
   "outputs": [
    {
     "data": {
      "text/plain": [
       "True"
      ]
     },
     "execution_count": 11,
     "metadata": {},
     "output_type": "execute_result"
    }
   ],
   "source": [
    "repeat('abc', -1) is None"
   ]
  },
  {
   "cell_type": "code",
   "execution_count": 12,
   "id": "c20672cb-f53f-42c4-bc16-bab3e7b9a009",
   "metadata": {
    "tags": []
   },
   "outputs": [
    {
     "data": {
      "text/plain": [
       "True"
      ]
     },
     "execution_count": 12,
     "metadata": {},
     "output_type": "execute_result"
    }
   ],
   "source": [
    "repeat('abc', 'nope') is None"
   ]
  }
 ],
 "metadata": {
  "kernelspec": {
   "display_name": "Python 3 (ipykernel)",
   "language": "python",
   "name": "python3"
  },
  "language_info": {
   "codemirror_mode": {
    "name": "ipython",
    "version": 3
   },
   "file_extension": ".py",
   "mimetype": "text/x-python",
   "name": "python",
   "nbconvert_exporter": "python",
   "pygments_lexer": "ipython3",
   "version": "3.11.5"
  }
 },
 "nbformat": 4,
 "nbformat_minor": 5
}
