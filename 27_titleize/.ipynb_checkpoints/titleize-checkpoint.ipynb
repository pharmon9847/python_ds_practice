{
 "cells": [
  {
   "cell_type": "code",
   "execution_count": null,
   "id": "39e986ff-a2b5-460f-86a5-cb2026fb046e",
   "metadata": {},
   "outputs": [],
   "source": [
    "def titleize(phrase):\n",
    "    \"\"\"Return phrase in title case (each word capitalized).\n",
    "\n",
    "        >>> titleize('this is awesome')\n",
    "        'This Is Awesome'\n",
    "\n",
    "        >>> titleize('oNLy cAPITALIZe fIRSt')\n",
    "        'Only Capitalize First'\n",
    "    \"\"\"\n"
   ]
  }
 ],
 "metadata": {
  "kernelspec": {
   "display_name": "Python 3 (ipykernel)",
   "language": "python",
   "name": "python3"
  },
  "language_info": {
   "codemirror_mode": {
    "name": "ipython",
    "version": 3
   },
   "file_extension": ".py",
   "mimetype": "text/x-python",
   "name": "python",
   "nbconvert_exporter": "python",
   "pygments_lexer": "ipython3",
   "version": "3.11.5"
  }
 },
 "nbformat": 4,
 "nbformat_minor": 5
}
