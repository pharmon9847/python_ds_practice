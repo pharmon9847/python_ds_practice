{
 "cells": [
  {
   "cell_type": "code",
   "execution_count": 4,
   "id": "39e986ff-a2b5-460f-86a5-cb2026fb046e",
   "metadata": {},
   "outputs": [],
   "source": [
    "def titleize(phrase):\n",
    "    \"\"\"Return phrase in title case (each word capitalized).\n",
    "\n",
    "        >>> titleize('this is awesome')\n",
    "        'This Is Awesome'\n",
    "\n",
    "        >>> titleize('oNLy cAPITALIZe fIRSt')\n",
    "        'Only Capitalize First'\n",
    "    \"\"\"\n",
    "    return phrase.title()"
   ]
  },
  {
   "cell_type": "code",
   "execution_count": 5,
   "id": "0008eaaa-44c3-4a94-b415-e4b553238901",
   "metadata": {
    "tags": []
   },
   "outputs": [
    {
     "data": {
      "text/plain": [
       "'This Is Awesome'"
      ]
     },
     "execution_count": 5,
     "metadata": {},
     "output_type": "execute_result"
    }
   ],
   "source": [
    "titleize('this is awesome')"
   ]
  },
  {
   "cell_type": "code",
   "execution_count": 6,
   "id": "94fd16a7-a4db-4ca1-b9cd-a9140de0293a",
   "metadata": {
    "tags": []
   },
   "outputs": [
    {
     "data": {
      "text/plain": [
       "'Only Capitalize First'"
      ]
     },
     "execution_count": 6,
     "metadata": {},
     "output_type": "execute_result"
    }
   ],
   "source": [
    "titleize('oNLy cAPITALIZe fIRSt')"
   ]
  }
 ],
 "metadata": {
  "kernelspec": {
   "display_name": "Python 3 (ipykernel)",
   "language": "python",
   "name": "python3"
  },
  "language_info": {
   "codemirror_mode": {
    "name": "ipython",
    "version": 3
   },
   "file_extension": ".py",
   "mimetype": "text/x-python",
   "name": "python",
   "nbconvert_exporter": "python",
   "pygments_lexer": "ipython3",
   "version": "3.11.5"
  }
 },
 "nbformat": 4,
 "nbformat_minor": 5
}
