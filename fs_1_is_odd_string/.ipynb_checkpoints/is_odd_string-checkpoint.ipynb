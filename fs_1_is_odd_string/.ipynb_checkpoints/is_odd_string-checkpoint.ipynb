{
 "cells": [
  {
   "cell_type": "code",
   "execution_count": 1,
   "id": "dc4953ff-b86d-456c-bcb9-23675d1d1e4e",
   "metadata": {},
   "outputs": [],
   "source": [
    "def is_odd_string(word):\n",
    "    \"\"\"Is the sum of the character-positions odd?\n",
    "\n",
    "    Word is a simple word of uppercase/lowercase letters without punctuation.\n",
    "\n",
    "    For each character, find it's \"character position\" (\"a\"=1, \"b\"=2, etc).\n",
    "    Return True/False, depending on whether sum of those numbers is odd.\n",
    "\n",
    "    For example, these sum to 1, which is odd:\n",
    "    \n",
    "        >>> is_odd_string('a')\n",
    "        True\n",
    "\n",
    "        >>> is_odd_string('A')\n",
    "        True\n",
    "\n",
    "    These sum to 4, which is not odd:\n",
    "    \n",
    "        >>> is_odd_string('aaaa')\n",
    "        False\n",
    "\n",
    "        >>> is_odd_string('AAaa')\n",
    "        False\n",
    "\n",
    "    Longer example:\n",
    "    \n",
    "        >>> is_odd_string('amazing')\n",
    "        True\n",
    "    \"\"\"\n",
    "\n",
    "    # Hint: you may find the ord() function useful here\n",
    "    \n",
    "    odd_even = ord('a') - 1\n",
    "    \n",
    "    total = sum((ord(x) - odd_even) for x in word.lower())\n",
    "    \n",
    "    return total % 2 == 1"
   ]
  },
  {
   "cell_type": "code",
   "execution_count": 2,
   "id": "6a9e30ee-aefc-47cd-9868-a13a7db78cdb",
   "metadata": {
    "tags": []
   },
   "outputs": [
    {
     "data": {
      "text/plain": [
       "True"
      ]
     },
     "execution_count": 2,
     "metadata": {},
     "output_type": "execute_result"
    }
   ],
   "source": [
    "is_odd_string('a')"
   ]
  },
  {
   "cell_type": "code",
   "execution_count": 3,
   "id": "919f38ce-59be-4931-baa8-ac24aace49ae",
   "metadata": {
    "tags": []
   },
   "outputs": [
    {
     "data": {
      "text/plain": [
       "True"
      ]
     },
     "execution_count": 3,
     "metadata": {},
     "output_type": "execute_result"
    }
   ],
   "source": [
    "is_odd_string('A')"
   ]
  },
  {
   "cell_type": "code",
   "execution_count": 4,
   "id": "48374eb1-81a2-4d60-8e31-495da637522c",
   "metadata": {
    "tags": []
   },
   "outputs": [
    {
     "data": {
      "text/plain": [
       "False"
      ]
     },
     "execution_count": 4,
     "metadata": {},
     "output_type": "execute_result"
    }
   ],
   "source": [
    "is_odd_string('aaaa')"
   ]
  },
  {
   "cell_type": "code",
   "execution_count": 5,
   "id": "6382e465-eb33-4adb-b5e5-d144d3deed67",
   "metadata": {
    "tags": []
   },
   "outputs": [
    {
     "data": {
      "text/plain": [
       "False"
      ]
     },
     "execution_count": 5,
     "metadata": {},
     "output_type": "execute_result"
    }
   ],
   "source": [
    "is_odd_string('AAaa')"
   ]
  },
  {
   "cell_type": "code",
   "execution_count": 6,
   "id": "24c7d311-68c8-4a51-ba6b-64fa6685be53",
   "metadata": {
    "tags": []
   },
   "outputs": [
    {
     "data": {
      "text/plain": [
       "True"
      ]
     },
     "execution_count": 6,
     "metadata": {},
     "output_type": "execute_result"
    }
   ],
   "source": [
    "is_odd_string('amazing')"
   ]
  }
 ],
 "metadata": {
  "kernelspec": {
   "display_name": "Python 3 (ipykernel)",
   "language": "python",
   "name": "python3"
  },
  "language_info": {
   "codemirror_mode": {
    "name": "ipython",
    "version": 3
   },
   "file_extension": ".py",
   "mimetype": "text/x-python",
   "name": "python",
   "nbconvert_exporter": "python",
   "pygments_lexer": "ipython3",
   "version": "3.11.5"
  }
 },
 "nbformat": 4,
 "nbformat_minor": 5
}
