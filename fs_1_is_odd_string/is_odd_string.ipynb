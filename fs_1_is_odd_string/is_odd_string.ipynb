{
 "cells": [
  {
   "cell_type": "code",
   "execution_count": null,
   "id": "dc4953ff-b86d-456c-bcb9-23675d1d1e4e",
   "metadata": {},
   "outputs": [],
   "source": [
    "def is_odd_string(word):\n",
    "    \"\"\"Is the sum of the character-positions odd?\n",
    "\n",
    "    Word is a simple word of uppercase/lowercase letters without punctuation.\n",
    "\n",
    "    For each character, find it's \"character position\" (\"a\"=1, \"b\"=2, etc).\n",
    "    Return True/False, depending on whether sum of those numbers is odd.\n",
    "\n",
    "    For example, these sum to 1, which is odd:\n",
    "    \n",
    "        >>> is_odd_string('a')\n",
    "        True\n",
    "\n",
    "        >>> is_odd_string('A')\n",
    "        True\n",
    "\n",
    "    These sum to 4, which is not odd:\n",
    "    \n",
    "        >>> is_odd_string('aaaa')\n",
    "        False\n",
    "\n",
    "        >>> is_odd_string('AAaa')\n",
    "        False\n",
    "\n",
    "    Longer example:\n",
    "    \n",
    "        >>> is_odd_string('amazing')\n",
    "        True\n",
    "    \"\"\"\n",
    "\n",
    "    # Hint: you may find the ord() function useful here"
   ]
  }
 ],
 "metadata": {
  "kernelspec": {
   "display_name": "Python 3 (ipykernel)",
   "language": "python",
   "name": "python3"
  },
  "language_info": {
   "codemirror_mode": {
    "name": "ipython",
    "version": 3
   },
   "file_extension": ".py",
   "mimetype": "text/x-python",
   "name": "python",
   "nbconvert_exporter": "python",
   "pygments_lexer": "ipython3",
   "version": "3.11.5"
  }
 },
 "nbformat": 4,
 "nbformat_minor": 5
}
