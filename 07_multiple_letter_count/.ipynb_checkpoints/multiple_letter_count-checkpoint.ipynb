{
 "cells": [
  {
   "cell_type": "code",
   "execution_count": 3,
   "metadata": {},
   "outputs": [],
   "source": [
    "def multiple_letter_count(phrase):\n",
    "    \"\"\"Return dict of {ltr: frequency} from phrase.\n",
    "\n",
    "        >>> multiple_letter_count('yay')\n",
    "        {'y': 2, 'a': 1}\n",
    "\n",
    "        >>> multiple_letter_count('Yay')\n",
    "        {'Y': 1, 'a': 1, 'y': 1}\n",
    "    \"\"\"\n",
    "    ltr_counter = {}\n",
    "    \n",
    "    for ltr in phrase:\n",
    "        ltr_counter[ltr] = ltr_counter.get(ltr, 0) + 1\n",
    "        \n",
    "    return ltr_counter\n",
    "    "
   ]
  },
  {
   "cell_type": "code",
   "execution_count": 4,
   "metadata": {
    "tags": []
   },
   "outputs": [
    {
     "data": {
      "text/plain": [
       "{'y': 2, 'a': 1}"
      ]
     },
     "execution_count": 4,
     "metadata": {},
     "output_type": "execute_result"
    }
   ],
   "source": [
    "multiple_letter_count('yay')"
   ]
  },
  {
   "cell_type": "code",
   "execution_count": 5,
   "metadata": {
    "tags": []
   },
   "outputs": [
    {
     "data": {
      "text/plain": [
       "{'Y': 1, 'a': 1, 'y': 1}"
      ]
     },
     "execution_count": 5,
     "metadata": {},
     "output_type": "execute_result"
    }
   ],
   "source": [
    "multiple_letter_count('Yay')"
   ]
  }
 ],
 "metadata": {
  "kernelspec": {
   "display_name": "Python 3 (ipykernel)",
   "language": "python",
   "name": "python3"
  },
  "language_info": {
   "codemirror_mode": {
    "name": "ipython",
    "version": 3
   },
   "file_extension": ".py",
   "mimetype": "text/x-python",
   "name": "python",
   "nbconvert_exporter": "python",
   "pygments_lexer": "ipython3",
   "version": "3.11.5"
  }
 },
 "nbformat": 4,
 "nbformat_minor": 4
}
