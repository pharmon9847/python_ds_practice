{
 "cells": [
  {
   "cell_type": "code",
   "execution_count": null,
   "metadata": {},
   "outputs": [],
   "source": [
    "def mode(nums):\n",
    "    \"\"\"Return most-common number in list.\n",
    "\n",
    "    For this function, there will always be a single-most-common value;\n",
    "    you do not need to worry about handling cases where more than one item\n",
    "    occurs the same number of times.\n",
    "\n",
    "        >>> mode([1, 2, 1])\n",
    "        1\n",
    "\n",
    "        >>> mode([2, 2, 3, 3, 2])\n",
    "        2\n",
    "    \"\"\"\n"
   ]
  }
 ],
 "metadata": {
  "kernelspec": {
   "display_name": "Python 3 (ipykernel)",
   "language": "python",
   "name": "python3"
  },
  "language_info": {
   "codemirror_mode": {
    "name": "ipython",
    "version": 3
   },
   "file_extension": ".py",
   "mimetype": "text/x-python",
   "name": "python",
   "nbconvert_exporter": "python",
   "pygments_lexer": "ipython3",
   "version": "3.11.5"
  }
 },
 "nbformat": 4,
 "nbformat_minor": 4
}
