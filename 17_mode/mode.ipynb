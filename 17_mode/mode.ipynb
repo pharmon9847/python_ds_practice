{
 "cells": [
  {
   "cell_type": "code",
   "execution_count": 3,
   "metadata": {},
   "outputs": [],
   "source": [
    "def mode(nums):\n",
    "    \"\"\"Return most-common number in list.\n",
    "\n",
    "    For this function, there will always be a single-most-common value;\n",
    "    you do not need to worry about handling cases where more than one item\n",
    "    occurs the same number of times.\n",
    "\n",
    "        >>> mode([1, 2, 1])\n",
    "        1\n",
    "\n",
    "        >>> mode([2, 2, 3, 3, 2])\n",
    "        2\n",
    "    \"\"\"\n",
    "    counts = {}\n",
    "    \n",
    "    # The get() method returns the value of the item with the specified key.\n",
    "\n",
    "    for num in nums:\n",
    "        counts[num] = counts.get(num, 0) + 1\n",
    "        \n",
    "    # The max() function returns the item with the highest value, or the item with the highest value in an iterable.\n",
    "    # The values() method returns a view object. The view object contains the values of the dictionary, as a list.\n",
    "\n",
    "    highest_value = max(counts.values())\n",
    "    \n",
    "    for(num, freq) in counts.items():\n",
    "        if freq == highest_value:\n",
    "            return num\n"
   ]
  },
  {
   "cell_type": "code",
   "execution_count": 4,
   "metadata": {
    "tags": []
   },
   "outputs": [
    {
     "data": {
      "text/plain": [
       "1"
      ]
     },
     "execution_count": 4,
     "metadata": {},
     "output_type": "execute_result"
    }
   ],
   "source": [
    "mode([1, 2, 1])"
   ]
  },
  {
   "cell_type": "code",
   "execution_count": 5,
   "metadata": {
    "tags": []
   },
   "outputs": [
    {
     "data": {
      "text/plain": [
       "2"
      ]
     },
     "execution_count": 5,
     "metadata": {},
     "output_type": "execute_result"
    }
   ],
   "source": [
    "mode([2, 2, 3, 3, 2])"
   ]
  }
 ],
 "metadata": {
  "kernelspec": {
   "display_name": "Python 3 (ipykernel)",
   "language": "python",
   "name": "python3"
  },
  "language_info": {
   "codemirror_mode": {
    "name": "ipython",
    "version": 3
   },
   "file_extension": ".py",
   "mimetype": "text/x-python",
   "name": "python",
   "nbconvert_exporter": "python",
   "pygments_lexer": "ipython3",
   "version": "3.11.5"
  }
 },
 "nbformat": 4,
 "nbformat_minor": 4
}
