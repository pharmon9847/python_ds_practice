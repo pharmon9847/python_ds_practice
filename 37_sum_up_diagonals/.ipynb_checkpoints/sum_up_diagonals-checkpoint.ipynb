{
 "cells": [
  {
   "cell_type": "code",
   "execution_count": null,
   "id": "1866a2c3-dacb-4ff2-91fe-93e7c2bd9e69",
   "metadata": {},
   "outputs": [],
   "source": [
    "def sum_up_diagonals(matrix):\n",
    "    \"\"\"Given a matrix [square list of lists], return sum of diagonals.\n",
    "\n",
    "    Sum of TL-to-BR diagonal along with BL-to-TR diagonal:\n",
    "\n",
    "        >>> m1 = [\n",
    "        ...     [1,   2],\n",
    "        ...     [30, 40],\n",
    "        ... ]\n",
    "        >>> sum_up_diagonals(m1)\n",
    "        73\n",
    "\n",
    "        >>> m2 = [\n",
    "        ...    [1, 2, 3],\n",
    "        ...    [4, 5, 6],\n",
    "        ...    [7, 8, 9],\n",
    "        ... ]\n",
    "        >>> sum_up_diagonals(m2)\n",
    "        30\n",
    "    \"\"\""
   ]
  }
 ],
 "metadata": {
  "kernelspec": {
   "display_name": "Python 3 (ipykernel)",
   "language": "python",
   "name": "python3"
  },
  "language_info": {
   "codemirror_mode": {
    "name": "ipython",
    "version": 3
   },
   "file_extension": ".py",
   "mimetype": "text/x-python",
   "name": "python",
   "nbconvert_exporter": "python",
   "pygments_lexer": "ipython3",
   "version": "3.11.5"
  }
 },
 "nbformat": 4,
 "nbformat_minor": 5
}
