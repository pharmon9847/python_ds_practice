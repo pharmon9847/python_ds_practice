{
 "cells": [
  {
   "cell_type": "code",
   "execution_count": 1,
   "id": "1866a2c3-dacb-4ff2-91fe-93e7c2bd9e69",
   "metadata": {},
   "outputs": [],
   "source": [
    "def sum_up_diagonals(matrix):\n",
    "    \"\"\"Given a matrix [square list of lists], return sum of diagonals.\n",
    "\n",
    "    Sum of TL-to-BR diagonal along with BL-to-TR diagonal:\n",
    "\n",
    "        >>> m1 = [\n",
    "        ...     [1,   2],\n",
    "        ...     [30, 40],\n",
    "        ... ]\n",
    "        >>> sum_up_diagonals(m1)\n",
    "        73\n",
    "\n",
    "        >>> m2 = [\n",
    "        ...    [1, 2, 3],\n",
    "        ...    [4, 5, 6],\n",
    "        ...    [7, 8, 9],\n",
    "        ... ]\n",
    "        >>> sum_up_diagonals(m2)\n",
    "        30\n",
    "    \"\"\"\n",
    "    \n",
    "    total = 0\n",
    "    \n",
    "    for x in range(len(matrix)):\n",
    "        total += matrix[x][x]\n",
    "        total += matrix[x][-1 - x]\n",
    "        \n",
    "    return total"
   ]
  },
  {
   "cell_type": "code",
   "execution_count": 2,
   "id": "66024f79-8241-4dcf-8b7b-affe1151efde",
   "metadata": {
    "tags": []
   },
   "outputs": [],
   "source": [
    "m1 = [\n",
    "    [1,   2],\n",
    "    [30, 40],\n",
    "]"
   ]
  },
  {
   "cell_type": "code",
   "execution_count": 3,
   "id": "e9a16354-dfcc-4df8-a71c-b494d8a4dda5",
   "metadata": {
    "tags": []
   },
   "outputs": [
    {
     "data": {
      "text/plain": [
       "73"
      ]
     },
     "execution_count": 3,
     "metadata": {},
     "output_type": "execute_result"
    }
   ],
   "source": [
    "sum_up_diagonals(m1)"
   ]
  },
  {
   "cell_type": "code",
   "execution_count": 4,
   "id": "9cf05671-896e-4393-b69b-e3fab568afa5",
   "metadata": {
    "tags": []
   },
   "outputs": [],
   "source": [
    "m2 = [\n",
    "    [1, 2, 3],\n",
    "    [4, 5, 6],\n",
    "    [7, 8, 9],\n",
    "]"
   ]
  },
  {
   "cell_type": "code",
   "execution_count": 5,
   "id": "5448ebf0-8b0f-43f5-b727-03c4d15055fc",
   "metadata": {
    "tags": []
   },
   "outputs": [
    {
     "data": {
      "text/plain": [
       "30"
      ]
     },
     "execution_count": 5,
     "metadata": {},
     "output_type": "execute_result"
    }
   ],
   "source": [
    "sum_up_diagonals(m2)"
   ]
  }
 ],
 "metadata": {
  "kernelspec": {
   "display_name": "Python 3 (ipykernel)",
   "language": "python",
   "name": "python3"
  },
  "language_info": {
   "codemirror_mode": {
    "name": "ipython",
    "version": 3
   },
   "file_extension": ".py",
   "mimetype": "text/x-python",
   "name": "python",
   "nbconvert_exporter": "python",
   "pygments_lexer": "ipython3",
   "version": "3.11.5"
  }
 },
 "nbformat": 4,
 "nbformat_minor": 5
}
