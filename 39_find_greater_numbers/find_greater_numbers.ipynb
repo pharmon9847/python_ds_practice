{
 "cells": [
  {
   "cell_type": "code",
   "execution_count": null,
   "id": "615f3ea8-da38-4a13-8870-020c3254ccc6",
   "metadata": {},
   "outputs": [],
   "source": [
    "def find_greater_numbers(nums):\n",
    "    \"\"\"Return # of times a number is followed by a greater number.\n",
    "\n",
    "    For example, for [1, 2, 3], the answer is 3:\n",
    "    - the 1 is followed by the 2 *and* the 3\n",
    "    - the 2 is followed by the 3\n",
    "\n",
    "    Examples:\n",
    "\n",
    "        >>> find_greater_numbers([1, 2, 3])\n",
    "        3\n",
    "\n",
    "        >>> find_greater_numbers([6, 1, 2, 7])\n",
    "        4\n",
    "\n",
    "        >>> find_greater_numbers([5, 4, 3, 2, 1])\n",
    "        0\n",
    "\n",
    "        >>> find_greater_numbers([])\n",
    "        0\n",
    "    \"\"\""
   ]
  }
 ],
 "metadata": {
  "kernelspec": {
   "display_name": "Python 3 (ipykernel)",
   "language": "python",
   "name": "python3"
  },
  "language_info": {
   "codemirror_mode": {
    "name": "ipython",
    "version": 3
   },
   "file_extension": ".py",
   "mimetype": "text/x-python",
   "name": "python",
   "nbconvert_exporter": "python",
   "pygments_lexer": "ipython3",
   "version": "3.11.5"
  }
 },
 "nbformat": 4,
 "nbformat_minor": 5
}
