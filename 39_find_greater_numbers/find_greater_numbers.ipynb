{
 "cells": [
  {
   "cell_type": "code",
   "execution_count": 1,
   "id": "615f3ea8-da38-4a13-8870-020c3254ccc6",
   "metadata": {},
   "outputs": [],
   "source": [
    "def find_greater_numbers(nums):\n",
    "    \"\"\"Return # of times a number is followed by a greater number.\n",
    "\n",
    "    For example, for [1, 2, 3], the answer is 3:\n",
    "    - the 1 is followed by the 2 *and* the 3\n",
    "    - the 2 is followed by the 3\n",
    "\n",
    "    Examples:\n",
    "\n",
    "        >>> find_greater_numbers([1, 2, 3])\n",
    "        3\n",
    "\n",
    "        >>> find_greater_numbers([6, 1, 2, 7])\n",
    "        4\n",
    "\n",
    "        >>> find_greater_numbers([5, 4, 3, 2, 1])\n",
    "        0\n",
    "\n",
    "        >>> find_greater_numbers([])\n",
    "        0\n",
    "    \"\"\"\n",
    "    \n",
    "    count = 0\n",
    "    \n",
    "    for x in range(len(nums)):\n",
    "        for z in range(x + 1, len(nums)):\n",
    "            if nums[z] > nums[x]:\n",
    "                count += 1\n",
    "                \n",
    "    return count"
   ]
  },
  {
   "cell_type": "code",
   "execution_count": 2,
   "id": "4422220a-ed87-4469-bbeb-4a4ec9ebf001",
   "metadata": {
    "tags": []
   },
   "outputs": [
    {
     "data": {
      "text/plain": [
       "3"
      ]
     },
     "execution_count": 2,
     "metadata": {},
     "output_type": "execute_result"
    }
   ],
   "source": [
    "find_greater_numbers([1, 2, 3])"
   ]
  },
  {
   "cell_type": "code",
   "execution_count": 3,
   "id": "be268b16-94dd-4190-8884-8754966ac31f",
   "metadata": {
    "tags": []
   },
   "outputs": [
    {
     "data": {
      "text/plain": [
       "4"
      ]
     },
     "execution_count": 3,
     "metadata": {},
     "output_type": "execute_result"
    }
   ],
   "source": [
    "find_greater_numbers([6, 1, 2, 7])"
   ]
  },
  {
   "cell_type": "code",
   "execution_count": 4,
   "id": "053480c8-6bae-4d04-ad92-0bdea9c16040",
   "metadata": {
    "tags": []
   },
   "outputs": [
    {
     "data": {
      "text/plain": [
       "0"
      ]
     },
     "execution_count": 4,
     "metadata": {},
     "output_type": "execute_result"
    }
   ],
   "source": [
    "find_greater_numbers([5, 4, 3, 2, 1])"
   ]
  },
  {
   "cell_type": "code",
   "execution_count": 5,
   "id": "0ed2d18c-6dff-43a2-98b2-105b82ff2d5e",
   "metadata": {
    "tags": []
   },
   "outputs": [
    {
     "data": {
      "text/plain": [
       "0"
      ]
     },
     "execution_count": 5,
     "metadata": {},
     "output_type": "execute_result"
    }
   ],
   "source": [
    "find_greater_numbers([])"
   ]
  }
 ],
 "metadata": {
  "kernelspec": {
   "display_name": "Python 3 (ipykernel)",
   "language": "python",
   "name": "python3"
  },
  "language_info": {
   "codemirror_mode": {
    "name": "ipython",
    "version": 3
   },
   "file_extension": ".py",
   "mimetype": "text/x-python",
   "name": "python",
   "nbconvert_exporter": "python",
   "pygments_lexer": "ipython3",
   "version": "3.11.5"
  }
 },
 "nbformat": 4,
 "nbformat_minor": 5
}
