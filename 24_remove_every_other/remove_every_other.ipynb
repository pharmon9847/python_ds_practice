{
 "cells": [
  {
   "cell_type": "code",
   "execution_count": 9,
   "id": "cf6f0731-3b7b-479e-9757-d5bc27cee78f",
   "metadata": {},
   "outputs": [],
   "source": [
    "def remove_every_other(lst):\n",
    "    \"\"\"Return a new list of other item.\n",
    "\n",
    "        >>> lst = [1, 2, 3, 4, 5]\n",
    "\n",
    "        >>> remove_every_other(lst)\n",
    "        [1, 3, 5]\n",
    "\n",
    "    This should return a list, not mutate the original:\n",
    "\n",
    "        >>> lst\n",
    "        [1, 2, 3, 4, 5]\n",
    "    \"\"\"\n",
    "    return lst[::2]"
   ]
  },
  {
   "cell_type": "code",
   "execution_count": 10,
   "id": "cb8149f7-0c39-474f-a9cd-b492ef04c4b6",
   "metadata": {
    "tags": []
   },
   "outputs": [
    {
     "data": {
      "text/plain": [
       "[1, 3, 5]"
      ]
     },
     "execution_count": 10,
     "metadata": {},
     "output_type": "execute_result"
    }
   ],
   "source": [
    "lst = [1, 2, 3, 4, 5]\n",
    "remove_every_other(lst)\n"
   ]
  },
  {
   "cell_type": "code",
   "execution_count": 11,
   "id": "b6780ae1-ebba-4656-88d0-ab3c472c9d56",
   "metadata": {
    "tags": []
   },
   "outputs": [
    {
     "data": {
      "text/plain": [
       "[1, 2, 3, 4, 5]"
      ]
     },
     "execution_count": 11,
     "metadata": {},
     "output_type": "execute_result"
    }
   ],
   "source": [
    "lst"
   ]
  }
 ],
 "metadata": {
  "kernelspec": {
   "display_name": "Python 3 (ipykernel)",
   "language": "python",
   "name": "python3"
  },
  "language_info": {
   "codemirror_mode": {
    "name": "ipython",
    "version": 3
   },
   "file_extension": ".py",
   "mimetype": "text/x-python",
   "name": "python",
   "nbconvert_exporter": "python",
   "pygments_lexer": "ipython3",
   "version": "3.11.5"
  }
 },
 "nbformat": 4,
 "nbformat_minor": 5
}
