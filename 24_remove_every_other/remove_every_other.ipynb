{
 "cells": [
  {
   "cell_type": "code",
   "execution_count": null,
   "id": "cf6f0731-3b7b-479e-9757-d5bc27cee78f",
   "metadata": {},
   "outputs": [],
   "source": [
    "def remove_every_other(lst):\n",
    "    \"\"\"Return a new list of other item.\n",
    "\n",
    "        >>> lst = [1, 2, 3, 4, 5]\n",
    "\n",
    "        >>> remove_every_other(lst)\n",
    "        [1, 3, 5]\n",
    "\n",
    "    This should return a list, not mutate the original:\n",
    "\n",
    "        >>> lst\n",
    "        [1, 2, 3, 4, 5]\n",
    "    \"\"\"\n"
   ]
  }
 ],
 "metadata": {
  "kernelspec": {
   "display_name": "Python 3 (ipykernel)",
   "language": "python",
   "name": "python3"
  },
  "language_info": {
   "codemirror_mode": {
    "name": "ipython",
    "version": 3
   },
   "file_extension": ".py",
   "mimetype": "text/x-python",
   "name": "python",
   "nbconvert_exporter": "python",
   "pygments_lexer": "ipython3",
   "version": "3.11.5"
  }
 },
 "nbformat": 4,
 "nbformat_minor": 5
}
