{
 "cells": [
  {
   "cell_type": "code",
   "execution_count": 1,
   "id": "086c025a-2f91-4eed-add2-2995b4653279",
   "metadata": {},
   "outputs": [],
   "source": [
    "def two_list_dictionary(keys, values):\n",
    "    \"\"\"Given keys and values, make dictionary of those.\n",
    "    \n",
    "        >>> two_list_dictionary(['x', 'y', 'z'], [9, 8, 7])\n",
    "        {'x': 9, 'y': 8, 'z': 7}\n",
    "        \n",
    "    If there are fewer values than keys, remaining keys should have value\n",
    "    of None:\n",
    "    \n",
    "        >>> two_list_dictionary(['a', 'b', 'c', 'd'], [1, 2, 3])\n",
    "        {'a': 1, 'b': 2, 'c': 3, 'd': None}\n",
    "    \n",
    "    If there are fewer keys, ignore remaining values:\n",
    "\n",
    "        >>> two_list_dictionary(['a', 'b', 'c'], [1, 2, 3, 4])\n",
    "        {'a': 1, 'b': 2, 'c': 3}\n",
    "   \"\"\"\n",
    "    new_dict = {}\n",
    "    \n",
    "    # The enumerate() function takes a collection (e.g. a tuple) and returns it as an enumerate object.\n",
    "    # The enumerate() function adds a counter as the key of the enumerate object.\n",
    "    \n",
    "    for inx, val in enumerate(keys):\n",
    "        new_dict[val] = values[inx] if inx < len(values) else None\n",
    "        \n",
    "    return new_dict"
   ]
  },
  {
   "cell_type": "code",
   "execution_count": 2,
   "id": "e2385d1d-6fb1-42cb-81d0-2b30aab6cad6",
   "metadata": {
    "tags": []
   },
   "outputs": [
    {
     "data": {
      "text/plain": [
       "{'x': 9, 'y': 8, 'z': 7}"
      ]
     },
     "execution_count": 2,
     "metadata": {},
     "output_type": "execute_result"
    }
   ],
   "source": [
    "two_list_dictionary(['x', 'y', 'z'], [9, 8, 7])"
   ]
  },
  {
   "cell_type": "code",
   "execution_count": 3,
   "id": "e96edeaa-900f-49e7-8134-7fb8b44b4a04",
   "metadata": {
    "tags": []
   },
   "outputs": [
    {
     "data": {
      "text/plain": [
       "{'a': 1, 'b': 2, 'c': 3, 'd': None}"
      ]
     },
     "execution_count": 3,
     "metadata": {},
     "output_type": "execute_result"
    }
   ],
   "source": [
    "two_list_dictionary(['a', 'b', 'c', 'd'], [1, 2, 3])"
   ]
  },
  {
   "cell_type": "code",
   "execution_count": 4,
   "id": "d03ba9d3-a635-4761-af53-21c82f4c8039",
   "metadata": {
    "tags": []
   },
   "outputs": [
    {
     "data": {
      "text/plain": [
       "{'a': 1, 'b': 2, 'c': 3}"
      ]
     },
     "execution_count": 4,
     "metadata": {},
     "output_type": "execute_result"
    }
   ],
   "source": [
    "two_list_dictionary(['a', 'b', 'c'], [1, 2, 3, 4])"
   ]
  }
 ],
 "metadata": {
  "kernelspec": {
   "display_name": "Python 3 (ipykernel)",
   "language": "python",
   "name": "python3"
  },
  "language_info": {
   "codemirror_mode": {
    "name": "ipython",
    "version": 3
   },
   "file_extension": ".py",
   "mimetype": "text/x-python",
   "name": "python",
   "nbconvert_exporter": "python",
   "pygments_lexer": "ipython3",
   "version": "3.11.5"
  }
 },
 "nbformat": 4,
 "nbformat_minor": 5
}
