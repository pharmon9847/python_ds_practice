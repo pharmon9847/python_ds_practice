{
 "cells": [
  {
   "cell_type": "code",
   "execution_count": null,
   "id": "086c025a-2f91-4eed-add2-2995b4653279",
   "metadata": {},
   "outputs": [],
   "source": [
    "def two_list_dictionary(keys, values):\n",
    "    \"\"\"Given keys and values, make dictionary of those.\n",
    "    \n",
    "        >>> two_list_dictionary(['x', 'y', 'z'], [9, 8, 7])\n",
    "        {'x': 9, 'y': 8, 'z': 7}\n",
    "        \n",
    "    If there are fewer values than keys, remaining keys should have value\n",
    "    of None:\n",
    "    \n",
    "        >>> two_list_dictionary(['a', 'b', 'c', 'd'], [1, 2, 3])\n",
    "        {'a': 1, 'b': 2, 'c': 3, 'd': None}\n",
    "    \n",
    "    If there are fewer keys, ignore remaining values:\n",
    "\n",
    "        >>> two_list_dictionary(['a', 'b', 'c'], [1, 2, 3, 4])\n",
    "        {'a': 1, 'b': 2, 'c': 3}\n",
    "   \"\"\""
   ]
  }
 ],
 "metadata": {
  "kernelspec": {
   "display_name": "Python 3 (ipykernel)",
   "language": "python",
   "name": "python3"
  },
  "language_info": {
   "codemirror_mode": {
    "name": "ipython",
    "version": 3
   },
   "file_extension": ".py",
   "mimetype": "text/x-python",
   "name": "python",
   "nbconvert_exporter": "python",
   "pygments_lexer": "ipython3",
   "version": "3.11.5"
  }
 },
 "nbformat": 4,
 "nbformat_minor": 5
}
