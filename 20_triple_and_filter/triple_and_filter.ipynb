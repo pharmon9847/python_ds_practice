{
 "cells": [
  {
   "cell_type": "code",
   "execution_count": 2,
   "id": "aee7e672-6cb6-4026-9b48-96829b455a6d",
   "metadata": {},
   "outputs": [],
   "source": [
    "def triple_and_filter(nums):\n",
    "    \"\"\"Return new list of tripled nums for those nums divisible by 4.\n",
    "\n",
    "    Return every number in list that is divisible by 4 in a new list,\n",
    "    except multipled by 3.\n",
    "    \n",
    "        >>> triple_and_filter([1, 2, 3, 4])\n",
    "        [12]\n",
    "        \n",
    "        >>> triple_and_filter([6, 8, 10, 12])\n",
    "        [24, 36]\n",
    "        \n",
    "        >>> triple_and_filter([1, 2])\n",
    "        []\n",
    "    \"\"\"\n",
    "    return [num * 3 for num in nums if num % 4 == 0]"
   ]
  },
  {
   "cell_type": "code",
   "execution_count": 3,
   "id": "5aa4f2ce-3ec8-44bc-8eb0-31cf2cef899a",
   "metadata": {
    "tags": []
   },
   "outputs": [
    {
     "data": {
      "text/plain": [
       "[12]"
      ]
     },
     "execution_count": 3,
     "metadata": {},
     "output_type": "execute_result"
    }
   ],
   "source": [
    "triple_and_filter([1, 2, 3, 4])"
   ]
  },
  {
   "cell_type": "code",
   "execution_count": 4,
   "id": "3c0bd177-f6d5-4581-84e7-1729f19b887f",
   "metadata": {
    "tags": []
   },
   "outputs": [
    {
     "data": {
      "text/plain": [
       "[24, 36]"
      ]
     },
     "execution_count": 4,
     "metadata": {},
     "output_type": "execute_result"
    }
   ],
   "source": [
    "triple_and_filter([6, 8, 10, 12])"
   ]
  },
  {
   "cell_type": "code",
   "execution_count": 5,
   "id": "72e15369-4dd6-4e9c-8930-6e07232700a2",
   "metadata": {
    "tags": []
   },
   "outputs": [
    {
     "data": {
      "text/plain": [
       "[]"
      ]
     },
     "execution_count": 5,
     "metadata": {},
     "output_type": "execute_result"
    }
   ],
   "source": [
    "triple_and_filter([1, 2])"
   ]
  }
 ],
 "metadata": {
  "kernelspec": {
   "display_name": "Python 3 (ipykernel)",
   "language": "python",
   "name": "python3"
  },
  "language_info": {
   "codemirror_mode": {
    "name": "ipython",
    "version": 3
   },
   "file_extension": ".py",
   "mimetype": "text/x-python",
   "name": "python",
   "nbconvert_exporter": "python",
   "pygments_lexer": "ipython3",
   "version": "3.11.5"
  }
 },
 "nbformat": 4,
 "nbformat_minor": 5
}
