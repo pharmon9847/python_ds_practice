{
 "cells": [
  {
   "cell_type": "code",
   "execution_count": null,
   "id": "aee7e672-6cb6-4026-9b48-96829b455a6d",
   "metadata": {},
   "outputs": [],
   "source": [
    "def triple_and_filter(nums):\n",
    "    \"\"\"Return new list of tripled nums for those nums divisible by 4.\n",
    "\n",
    "    Return every number in list that is divisible by 4 in a new list,\n",
    "    except multipled by 3.\n",
    "    \n",
    "        >>> triple_and_filter([1, 2, 3, 4])\n",
    "        [12]\n",
    "        \n",
    "        >>> triple_and_filter([6, 8, 10, 12])\n",
    "        [24, 36]\n",
    "        \n",
    "        >>> triple_and_filter([1, 2])\n",
    "        []\n",
    "    \"\"\"\n"
   ]
  }
 ],
 "metadata": {
  "kernelspec": {
   "display_name": "Python 3 (ipykernel)",
   "language": "python",
   "name": "python3"
  },
  "language_info": {
   "codemirror_mode": {
    "name": "ipython",
    "version": 3
   },
   "file_extension": ".py",
   "mimetype": "text/x-python",
   "name": "python",
   "nbconvert_exporter": "python",
   "pygments_lexer": "ipython3",
   "version": "3.11.5"
  }
 },
 "nbformat": 4,
 "nbformat_minor": 5
}
