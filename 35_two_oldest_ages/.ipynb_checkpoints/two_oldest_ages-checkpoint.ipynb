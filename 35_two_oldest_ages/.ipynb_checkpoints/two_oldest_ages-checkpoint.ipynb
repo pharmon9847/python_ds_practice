{
 "cells": [
  {
   "cell_type": "code",
   "execution_count": null,
   "id": "3b3d458c-6476-4a42-bdf2-f695eea9ab70",
   "metadata": {},
   "outputs": [],
   "source": [
    "def two_oldest_ages(ages):\n",
    "    \"\"\"Return two distinct oldest ages as tuple (second-oldest, oldest)..\n",
    "\n",
    "        >>> two_oldest_ages([1, 2, 10, 8])\n",
    "        (8, 10)\n",
    "\n",
    "        >>> two_oldest_ages([6, 1, 9, 10, 4])\n",
    "        (9, 10)\n",
    "\n",
    "    Even if more than one person has the same oldest age, this should return\n",
    "    two *distinct* oldest ages:\n",
    "\n",
    "        >>> two_oldest_ages([1, 5, 5, 2])\n",
    "        (2, 5)\n",
    "    \"\"\"\n",
    "\n",
    "    # NOTE: don't worry about an optimized runtime here; it's fine if\n",
    "    # you have a runtime worse than O(n)\n",
    "\n",
    "    # NOTE: you can sort lists with lst.sort(), which works in place (mutates);\n",
    "    # you may find it helpful to research the `sorted(iter)` function, which\n",
    "    # can take *any* type of list-like-thing, and returns a new, sorted list\n",
    "    # from it."
   ]
  }
 ],
 "metadata": {
  "kernelspec": {
   "display_name": "Python 3 (ipykernel)",
   "language": "python",
   "name": "python3"
  },
  "language_info": {
   "codemirror_mode": {
    "name": "ipython",
    "version": 3
   },
   "file_extension": ".py",
   "mimetype": "text/x-python",
   "name": "python",
   "nbconvert_exporter": "python",
   "pygments_lexer": "ipython3",
   "version": "3.11.5"
  }
 },
 "nbformat": 4,
 "nbformat_minor": 5
}
