{
 "cells": [
  {
   "cell_type": "code",
   "execution_count": 11,
   "id": "3b3d458c-6476-4a42-bdf2-f695eea9ab70",
   "metadata": {},
   "outputs": [],
   "source": [
    "def two_oldest_ages(ages):\n",
    "    \"\"\"Return two distinct oldest ages as tuple (second-oldest, oldest)..\n",
    "\n",
    "        >>> two_oldest_ages([1, 2, 10, 8])\n",
    "        (8, 10)\n",
    "\n",
    "        >>> two_oldest_ages([6, 1, 9, 10, 4])\n",
    "        (9, 10)\n",
    "\n",
    "    Even if more than one person has the same oldest age, this should return\n",
    "    two *distinct* oldest ages:\n",
    "\n",
    "        >>> two_oldest_ages([1, 5, 5, 2])\n",
    "        (2, 5)\n",
    "    \"\"\"\n",
    "\n",
    "    # NOTE: don't worry about an optimized runtime here; it's fine if\n",
    "    # you have a runtime worse than O(n)\n",
    "\n",
    "    # NOTE: you can sort lists with lst.sort(), which works in place (mutates);\n",
    "    # you may find it helpful to research the `sorted(iter)` function, which\n",
    "    # can take *any* type of list-like-thing, and returns a new, sorted list\n",
    "    # from it.\n",
    "    \n",
    "    indv_ages = set(ages)\n",
    "    \n",
    "    oldest = None\n",
    "    \n",
    "    second_oldest = None\n",
    "    \n",
    "    for age in indv_ages:\n",
    "        if oldest is None or age > oldest:\n",
    "            second_oldest = oldest\n",
    "            oldest = age\n",
    "        elif second_oldest is None or age > second_oldest:\n",
    "            second_oldest = age\n",
    "            \n",
    "    return (second_oldest, oldest)\n",
    "\n",
    "#     indv_ages = set(ages)\n",
    "    \n",
    "#     oldest = sorted(indv_ages)[-2:]\n",
    "    \n",
    "#     return tuple(oldest)"
   ]
  },
  {
   "cell_type": "code",
   "execution_count": 12,
   "id": "b7bc8e88-b84c-4e25-bbd0-4a06b439c7aa",
   "metadata": {
    "tags": []
   },
   "outputs": [
    {
     "data": {
      "text/plain": [
       "(8, 10)"
      ]
     },
     "execution_count": 12,
     "metadata": {},
     "output_type": "execute_result"
    }
   ],
   "source": [
    "two_oldest_ages([1, 2, 10, 8])"
   ]
  },
  {
   "cell_type": "code",
   "execution_count": 13,
   "id": "f67d8041-b1bf-4ebc-850c-f0f927159480",
   "metadata": {
    "tags": []
   },
   "outputs": [
    {
     "data": {
      "text/plain": [
       "(9, 10)"
      ]
     },
     "execution_count": 13,
     "metadata": {},
     "output_type": "execute_result"
    }
   ],
   "source": [
    "two_oldest_ages([6, 1, 9, 10, 4])"
   ]
  },
  {
   "cell_type": "code",
   "execution_count": 14,
   "id": "2d6c4225-5920-4102-a6c9-e69ffbdbf87d",
   "metadata": {
    "tags": []
   },
   "outputs": [
    {
     "data": {
      "text/plain": [
       "(2, 5)"
      ]
     },
     "execution_count": 14,
     "metadata": {},
     "output_type": "execute_result"
    }
   ],
   "source": [
    "two_oldest_ages([1, 5, 5, 2])"
   ]
  }
 ],
 "metadata": {
  "kernelspec": {
   "display_name": "Python 3 (ipykernel)",
   "language": "python",
   "name": "python3"
  },
  "language_info": {
   "codemirror_mode": {
    "name": "ipython",
    "version": 3
   },
   "file_extension": ".py",
   "mimetype": "text/x-python",
   "name": "python",
   "nbconvert_exporter": "python",
   "pygments_lexer": "ipython3",
   "version": "3.11.5"
  }
 },
 "nbformat": 4,
 "nbformat_minor": 5
}
