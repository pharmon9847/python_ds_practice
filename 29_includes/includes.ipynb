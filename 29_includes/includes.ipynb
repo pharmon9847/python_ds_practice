{
 "cells": [
  {
   "cell_type": "code",
   "execution_count": 4,
   "id": "fe674375-5a9b-4f5d-ab97-c9f3e02fecb0",
   "metadata": {},
   "outputs": [],
   "source": [
    "def includes(collection, sought, start=None):\n",
    "    \"\"\"Is sought in collection, starting at index start?\n",
    "\n",
    "    Return True/False if sought is in the given collection:\n",
    "    - lists/strings/sets/tuples: returns True/False if sought present\n",
    "    - dictionaries: return True/False if *value* of sought in dictionary\n",
    "\n",
    "    If string/list/tuple and `start` is provided, starts searching only at that\n",
    "    index. This `start` is ignored for sets/dictionaries, since they aren't\n",
    "    ordered.\n",
    "\n",
    "        >>> includes([1, 2, 3], 1)\n",
    "        True\n",
    "\n",
    "        >>> includes([1, 2, 3], 1, 2)\n",
    "        False\n",
    "\n",
    "        >>> includes(\"hello\", \"o\")\n",
    "        True\n",
    "\n",
    "        >>> includes(('Elmo', 5, 'red'), 'red', 1)\n",
    "        True\n",
    "\n",
    "        >>> includes({1, 2, 3}, 1)\n",
    "        True\n",
    "\n",
    "        >>> includes({1, 2, 3}, 1, 3)  # \"start\" ignored for sets!\n",
    "        True\n",
    "\n",
    "        >>> includes({\"apple\": \"red\", \"berry\": \"blue\"}, \"blue\")\n",
    "        True\n",
    "    \"\"\"\n",
    "    \n",
    "    if isinstance(collection, dict):\n",
    "        return sought in collection.values()\n",
    "    \n",
    "    if start is None or isinstance(collection, set):\n",
    "        return sought in collection\n",
    "    \n",
    "    return sought in collection[start:]"
   ]
  },
  {
   "cell_type": "code",
   "execution_count": 5,
   "id": "ddb0d325-48de-4654-b4be-5eda21eff0a6",
   "metadata": {
    "tags": []
   },
   "outputs": [
    {
     "data": {
      "text/plain": [
       "True"
      ]
     },
     "execution_count": 5,
     "metadata": {},
     "output_type": "execute_result"
    }
   ],
   "source": [
    "includes([1, 2, 3], 1)"
   ]
  },
  {
   "cell_type": "code",
   "execution_count": 6,
   "id": "d1900d71-9d16-470b-bf28-11b515b55a19",
   "metadata": {
    "tags": []
   },
   "outputs": [
    {
     "data": {
      "text/plain": [
       "False"
      ]
     },
     "execution_count": 6,
     "metadata": {},
     "output_type": "execute_result"
    }
   ],
   "source": [
    "includes([1, 2, 3], 1, 2)"
   ]
  },
  {
   "cell_type": "code",
   "execution_count": 7,
   "id": "73984372-9df9-4c2e-9933-28da7a3e0e9b",
   "metadata": {
    "tags": []
   },
   "outputs": [
    {
     "data": {
      "text/plain": [
       "True"
      ]
     },
     "execution_count": 7,
     "metadata": {},
     "output_type": "execute_result"
    }
   ],
   "source": [
    "includes(\"hello\", \"o\")"
   ]
  },
  {
   "cell_type": "code",
   "execution_count": 8,
   "id": "01f0f6e1-57ed-4f3c-b504-742afa7d0892",
   "metadata": {
    "tags": []
   },
   "outputs": [
    {
     "data": {
      "text/plain": [
       "True"
      ]
     },
     "execution_count": 8,
     "metadata": {},
     "output_type": "execute_result"
    }
   ],
   "source": [
    "includes(('Elmo', 5, 'red'), 'red', 1)"
   ]
  },
  {
   "cell_type": "code",
   "execution_count": 9,
   "id": "8ed52a19-d95e-478c-b150-a7570da01966",
   "metadata": {
    "tags": []
   },
   "outputs": [
    {
     "data": {
      "text/plain": [
       "True"
      ]
     },
     "execution_count": 9,
     "metadata": {},
     "output_type": "execute_result"
    }
   ],
   "source": [
    "includes({1, 2, 3}, 1)"
   ]
  },
  {
   "cell_type": "code",
   "execution_count": 10,
   "id": "0d41080c-ef32-496f-9792-ce3aabe3f240",
   "metadata": {
    "tags": []
   },
   "outputs": [
    {
     "data": {
      "text/plain": [
       "True"
      ]
     },
     "execution_count": 10,
     "metadata": {},
     "output_type": "execute_result"
    }
   ],
   "source": [
    "includes({1, 2, 3}, 1, 3)"
   ]
  },
  {
   "cell_type": "code",
   "execution_count": 11,
   "id": "729840da-f07c-4f36-8296-07fbf71b4239",
   "metadata": {
    "tags": []
   },
   "outputs": [
    {
     "data": {
      "text/plain": [
       "True"
      ]
     },
     "execution_count": 11,
     "metadata": {},
     "output_type": "execute_result"
    }
   ],
   "source": [
    "includes({\"apple\": \"red\", \"berry\": \"blue\"}, \"blue\")"
   ]
  }
 ],
 "metadata": {
  "kernelspec": {
   "display_name": "Python 3 (ipykernel)",
   "language": "python",
   "name": "python3"
  },
  "language_info": {
   "codemirror_mode": {
    "name": "ipython",
    "version": 3
   },
   "file_extension": ".py",
   "mimetype": "text/x-python",
   "name": "python",
   "nbconvert_exporter": "python",
   "pygments_lexer": "ipython3",
   "version": "3.11.5"
  }
 },
 "nbformat": 4,
 "nbformat_minor": 5
}
