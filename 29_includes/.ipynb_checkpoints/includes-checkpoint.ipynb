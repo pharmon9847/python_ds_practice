{
 "cells": [
  {
   "cell_type": "code",
   "execution_count": null,
   "id": "fe674375-5a9b-4f5d-ab97-c9f3e02fecb0",
   "metadata": {},
   "outputs": [],
   "source": [
    "def includes(collection, sought, start=None):\n",
    "    \"\"\"Is sought in collection, starting at index start?\n",
    "\n",
    "    Return True/False if sought is in the given collection:\n",
    "    - lists/strings/sets/tuples: returns True/False if sought present\n",
    "    - dictionaries: return True/False if *value* of sought in dictionary\n",
    "\n",
    "    If string/list/tuple and `start` is provided, starts searching only at that\n",
    "    index. This `start` is ignored for sets/dictionaries, since they aren't\n",
    "    ordered.\n",
    "\n",
    "        >>> includes([1, 2, 3], 1)\n",
    "        True\n",
    "\n",
    "        >>> includes([1, 2, 3], 1, 2)\n",
    "        False\n",
    "\n",
    "        >>> includes(\"hello\", \"o\")\n",
    "        True\n",
    "\n",
    "        >>> includes(('Elmo', 5, 'red'), 'red', 1)\n",
    "        True\n",
    "\n",
    "        >>> includes({1, 2, 3}, 1)\n",
    "        True\n",
    "\n",
    "        >>> includes({1, 2, 3}, 1, 3)  # \"start\" ignored for sets!\n",
    "        True\n",
    "\n",
    "        >>> includes({\"apple\": \"red\", \"berry\": \"blue\"}, \"blue\")\n",
    "        True\n",
    "    \"\"\""
   ]
  }
 ],
 "metadata": {
  "kernelspec": {
   "display_name": "Python 3 (ipykernel)",
   "language": "python",
   "name": "python3"
  },
  "language_info": {
   "codemirror_mode": {
    "name": "ipython",
    "version": 3
   },
   "file_extension": ".py",
   "mimetype": "text/x-python",
   "name": "python",
   "nbconvert_exporter": "python",
   "pygments_lexer": "ipython3",
   "version": "3.11.5"
  }
 },
 "nbformat": 4,
 "nbformat_minor": 5
}
