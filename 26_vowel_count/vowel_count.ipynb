{
 "cells": [
  {
   "cell_type": "code",
   "execution_count": null,
   "id": "00f98af4-2b46-41be-8a90-5547679b3ccb",
   "metadata": {},
   "outputs": [],
   "source": [
    "def vowel_count(phrase):\n",
    "    \"\"\"Return frequency map of vowels, case-insensitive.\n",
    "\n",
    "        >>> vowel_count('rithm school')\n",
    "        {'i': 1, 'o': 2}\n",
    "        \n",
    "        >>> vowel_count('HOW ARE YOU? i am great!') \n",
    "        {'o': 2, 'a': 3, 'e': 2, 'u': 1, 'i': 1}\n",
    "    \"\"\""
   ]
  }
 ],
 "metadata": {
  "kernelspec": {
   "display_name": "Python 3 (ipykernel)",
   "language": "python",
   "name": "python3"
  },
  "language_info": {
   "codemirror_mode": {
    "name": "ipython",
    "version": 3
   },
   "file_extension": ".py",
   "mimetype": "text/x-python",
   "name": "python",
   "nbconvert_exporter": "python",
   "pygments_lexer": "ipython3",
   "version": "3.11.5"
  }
 },
 "nbformat": 4,
 "nbformat_minor": 5
}
