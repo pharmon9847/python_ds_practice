{
 "cells": [
  {
   "cell_type": "code",
   "execution_count": 1,
   "id": "00f98af4-2b46-41be-8a90-5547679b3ccb",
   "metadata": {},
   "outputs": [],
   "source": [
    "vowels = set('aeiou')\n",
    "\n",
    "def vowel_count(phrase):\n",
    "    \"\"\"Return frequency map of vowels, case-insensitive.\n",
    "\n",
    "        >>> vowel_count('rithm school')\n",
    "        {'i': 1, 'o': 2}\n",
    "        \n",
    "        >>> vowel_count('HOW ARE YOU? i am great!') \n",
    "        {'o': 2, 'a': 3, 'e': 2, 'u': 1, 'i': 1}\n",
    "    \"\"\"\n",
    "    phrase = phrase.lower()\n",
    "    \n",
    "    vowel_counter = {}\n",
    "    \n",
    "    for v in phrase:\n",
    "        if v in vowels:\n",
    "            vowel_counter[v] = vowel_counter.get(v, 0) + 1\n",
    "            \n",
    "    return vowel_counter"
   ]
  },
  {
   "cell_type": "code",
   "execution_count": 2,
   "id": "eff73fe2-c7d5-400a-a180-0aaa9dd74870",
   "metadata": {
    "tags": []
   },
   "outputs": [
    {
     "data": {
      "text/plain": [
       "{'i': 1, 'o': 2}"
      ]
     },
     "execution_count": 2,
     "metadata": {},
     "output_type": "execute_result"
    }
   ],
   "source": [
    "vowel_count('rithm school')"
   ]
  },
  {
   "cell_type": "code",
   "execution_count": 3,
   "id": "1353f125-180b-4706-807d-6f5696d73ee1",
   "metadata": {
    "tags": []
   },
   "outputs": [
    {
     "data": {
      "text/plain": [
       "{'o': 2, 'a': 3, 'e': 2, 'u': 1, 'i': 1}"
      ]
     },
     "execution_count": 3,
     "metadata": {},
     "output_type": "execute_result"
    }
   ],
   "source": [
    "vowel_count('HOW ARE YOU? i am great!') "
   ]
  }
 ],
 "metadata": {
  "kernelspec": {
   "display_name": "Python 3 (ipykernel)",
   "language": "python",
   "name": "python3"
  },
  "language_info": {
   "codemirror_mode": {
    "name": "ipython",
    "version": 3
   },
   "file_extension": ".py",
   "mimetype": "text/x-python",
   "name": "python",
   "nbconvert_exporter": "python",
   "pygments_lexer": "ipython3",
   "version": "3.11.5"
  }
 },
 "nbformat": 4,
 "nbformat_minor": 5
}
