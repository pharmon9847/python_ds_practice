{
 "cells": [
  {
   "cell_type": "code",
   "execution_count": 7,
   "id": "4ac89c83-5115-45e4-9c50-1c4cc69f8af4",
   "metadata": {},
   "outputs": [],
   "source": [
    "def list_check(lst):\n",
    "    \"\"\"Are all items in lst a list?\n",
    "\n",
    "        >>> list_check([[1], [2, 3]])\n",
    "        True\n",
    "\n",
    "        >>> list_check([[1], \"nope\"])\n",
    "        False\n",
    "    \"\"\"\n",
    "    for item in lst:\n",
    "        if not isinstance(item, list):\n",
    "            return False\n",
    "        \n",
    "    return True\n"
   ]
  },
  {
   "cell_type": "code",
   "execution_count": 8,
   "id": "6a74622c-22b6-4958-b683-7b0e31de1f27",
   "metadata": {
    "tags": []
   },
   "outputs": [
    {
     "data": {
      "text/plain": [
       "True"
      ]
     },
     "execution_count": 8,
     "metadata": {},
     "output_type": "execute_result"
    }
   ],
   "source": [
    "list_check([[1], [2, 3]])"
   ]
  },
  {
   "cell_type": "code",
   "execution_count": 9,
   "id": "35cb4b75-7b85-4e6c-8c6b-8b83a5609a26",
   "metadata": {
    "tags": []
   },
   "outputs": [
    {
     "data": {
      "text/plain": [
       "False"
      ]
     },
     "execution_count": 9,
     "metadata": {},
     "output_type": "execute_result"
    }
   ],
   "source": [
    "list_check([[1], \"nope\"])"
   ]
  }
 ],
 "metadata": {
  "kernelspec": {
   "display_name": "Python 3 (ipykernel)",
   "language": "python",
   "name": "python3"
  },
  "language_info": {
   "codemirror_mode": {
    "name": "ipython",
    "version": 3
   },
   "file_extension": ".py",
   "mimetype": "text/x-python",
   "name": "python",
   "nbconvert_exporter": "python",
   "pygments_lexer": "ipython3",
   "version": "3.11.5"
  }
 },
 "nbformat": 4,
 "nbformat_minor": 5
}
