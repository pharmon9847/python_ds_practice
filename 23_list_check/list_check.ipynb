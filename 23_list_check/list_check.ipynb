{
 "cells": [
  {
   "cell_type": "code",
   "execution_count": null,
   "id": "4ac89c83-5115-45e4-9c50-1c4cc69f8af4",
   "metadata": {},
   "outputs": [],
   "source": [
    "def list_check(lst):\n",
    "    \"\"\"Are all items in lst a list?\n",
    "\n",
    "        >>> list_check([[1], [2, 3]])\n",
    "        True\n",
    "\n",
    "        >>> list_check([[1], \"nope\"])\n",
    "        False\n",
    "    \"\"\"\n"
   ]
  }
 ],
 "metadata": {
  "kernelspec": {
   "display_name": "Python 3 (ipykernel)",
   "language": "python",
   "name": "python3"
  },
  "language_info": {
   "codemirror_mode": {
    "name": "ipython",
    "version": 3
   },
   "file_extension": ".py",
   "mimetype": "text/x-python",
   "name": "python",
   "nbconvert_exporter": "python",
   "pygments_lexer": "ipython3",
   "version": "3.11.5"
  }
 },
 "nbformat": 4,
 "nbformat_minor": 5
}
