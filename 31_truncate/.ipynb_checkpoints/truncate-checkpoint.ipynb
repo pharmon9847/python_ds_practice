{
 "cells": [
  {
   "cell_type": "code",
   "execution_count": 1,
   "id": "d19729c1-9e3d-4bd6-91eb-d14b5492d984",
   "metadata": {},
   "outputs": [],
   "source": [
    "def truncate(phrase, n):\n",
    "    \"\"\"Return truncated-at-n-chars version of  phrase.\n",
    "    \n",
    "    If the phrase is longer than, or the same size as, n make sure it ends with '...' and is no\n",
    "    longer than n.\n",
    "    \n",
    "        >>> truncate(\"Hello World\", 6)\n",
    "        'Hel...'\n",
    "        \n",
    "        >>> truncate(\"Problem solving is the best!\", 10)\n",
    "        'Problem...'\n",
    "        \n",
    "        >>> truncate(\"Yo\", 100)\n",
    "        'Yo'\n",
    "        \n",
    "    The smallest legal value of n is 3; if less, return a message:\n",
    "    \n",
    "        >>> truncate('Cool', 1)\n",
    "        'Truncation must be at least 3 characters.'\n",
    "\n",
    "        >>> truncate(\"Woah\", 4)\n",
    "        'W...'\n",
    "\n",
    "        >>> truncate(\"Woah\", 3)\n",
    "        '...'\n",
    "    \"\"\"\n",
    "    \n",
    "    if n < 3:\n",
    "        return 'Truncation must be at least 3 characters.'\n",
    "    \n",
    "    if n > len(phrase) + 2:\n",
    "        return phrase\n",
    "    \n",
    "    return phrase[:n - 3] + '...'"
   ]
  },
  {
   "cell_type": "code",
   "execution_count": 2,
   "id": "3b88a29a-167a-4b88-bee3-567a7ecafe71",
   "metadata": {
    "tags": []
   },
   "outputs": [
    {
     "data": {
      "text/plain": [
       "'Hel...'"
      ]
     },
     "execution_count": 2,
     "metadata": {},
     "output_type": "execute_result"
    }
   ],
   "source": [
    "truncate(\"Hello World\", 6)"
   ]
  },
  {
   "cell_type": "code",
   "execution_count": 3,
   "id": "22bbfd72-5ee8-447c-923f-b3edc33be0b2",
   "metadata": {
    "tags": []
   },
   "outputs": [
    {
     "data": {
      "text/plain": [
       "'Problem...'"
      ]
     },
     "execution_count": 3,
     "metadata": {},
     "output_type": "execute_result"
    }
   ],
   "source": [
    "truncate(\"Problem solving is the best!\", 10)"
   ]
  },
  {
   "cell_type": "code",
   "execution_count": 4,
   "id": "620f5067-4470-463e-86c0-a738093bc8b2",
   "metadata": {
    "tags": []
   },
   "outputs": [
    {
     "data": {
      "text/plain": [
       "'Yo'"
      ]
     },
     "execution_count": 4,
     "metadata": {},
     "output_type": "execute_result"
    }
   ],
   "source": [
    "truncate(\"Yo\", 100)"
   ]
  },
  {
   "cell_type": "code",
   "execution_count": 5,
   "id": "b9693adc-74d5-43a3-a600-0305be6b05ba",
   "metadata": {
    "tags": []
   },
   "outputs": [
    {
     "data": {
      "text/plain": [
       "'Truncation must be at least 3 characters.'"
      ]
     },
     "execution_count": 5,
     "metadata": {},
     "output_type": "execute_result"
    }
   ],
   "source": [
    "truncate('Cool', 1)"
   ]
  },
  {
   "cell_type": "code",
   "execution_count": 6,
   "id": "1692e4f9-a5bf-4112-ac13-4456daf6718b",
   "metadata": {
    "tags": []
   },
   "outputs": [
    {
     "data": {
      "text/plain": [
       "'W...'"
      ]
     },
     "execution_count": 6,
     "metadata": {},
     "output_type": "execute_result"
    }
   ],
   "source": [
    "truncate(\"Woah\", 4)"
   ]
  },
  {
   "cell_type": "code",
   "execution_count": 7,
   "id": "f5009cc6-a8cb-4c6e-9acf-f081b0bd9cbe",
   "metadata": {
    "tags": []
   },
   "outputs": [
    {
     "data": {
      "text/plain": [
       "'...'"
      ]
     },
     "execution_count": 7,
     "metadata": {},
     "output_type": "execute_result"
    }
   ],
   "source": [
    "truncate(\"Woah\", 3)"
   ]
  }
 ],
 "metadata": {
  "kernelspec": {
   "display_name": "Python 3 (ipykernel)",
   "language": "python",
   "name": "python3"
  },
  "language_info": {
   "codemirror_mode": {
    "name": "ipython",
    "version": 3
   },
   "file_extension": ".py",
   "mimetype": "text/x-python",
   "name": "python",
   "nbconvert_exporter": "python",
   "pygments_lexer": "ipython3",
   "version": "3.11.5"
  }
 },
 "nbformat": 4,
 "nbformat_minor": 5
}
