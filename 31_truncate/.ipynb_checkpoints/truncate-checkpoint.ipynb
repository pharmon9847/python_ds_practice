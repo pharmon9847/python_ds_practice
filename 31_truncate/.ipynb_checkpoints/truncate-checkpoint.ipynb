{
 "cells": [
  {
   "cell_type": "code",
   "execution_count": null,
   "id": "d19729c1-9e3d-4bd6-91eb-d14b5492d984",
   "metadata": {},
   "outputs": [],
   "source": [
    "def truncate(phrase, n):\n",
    "    \"\"\"Return truncated-at-n-chars version of  phrase.\n",
    "    \n",
    "    If the phrase is longer than, or the same size as, n make sure it ends with '...' and is no\n",
    "    longer than n.\n",
    "    \n",
    "        >>> truncate(\"Hello World\", 6)\n",
    "        'Hel...'\n",
    "        \n",
    "        >>> truncate(\"Problem solving is the best!\", 10)\n",
    "        'Problem...'\n",
    "        \n",
    "        >>> truncate(\"Yo\", 100)\n",
    "        'Yo'\n",
    "        \n",
    "    The smallest legal value of n is 3; if less, return a message:\n",
    "    \n",
    "        >>> truncate('Cool', 1)\n",
    "        'Truncation must be at least 3 characters.'\n",
    "\n",
    "        >>> truncate(\"Woah\", 4)\n",
    "        'W...'\n",
    "\n",
    "        >>> truncate(\"Woah\", 3)\n",
    "        '...'\n",
    "    \"\"\""
   ]
  }
 ],
 "metadata": {
  "kernelspec": {
   "display_name": "Python 3 (ipykernel)",
   "language": "python",
   "name": "python3"
  },
  "language_info": {
   "codemirror_mode": {
    "name": "ipython",
    "version": 3
   },
   "file_extension": ".py",
   "mimetype": "text/x-python",
   "name": "python",
   "nbconvert_exporter": "python",
   "pygments_lexer": "ipython3",
   "version": "3.11.5"
  }
 },
 "nbformat": 4,
 "nbformat_minor": 5
}
