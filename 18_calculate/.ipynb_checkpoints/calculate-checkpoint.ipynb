{
 "cells": [
  {
   "cell_type": "code",
   "execution_count": null,
   "id": "a6ce4ce3-79e6-4561-9bf7-4a9445a6f347",
   "metadata": {},
   "outputs": [],
   "source": [
    "def calculate(operation, a, b, make_int=False, message='The result is'):\n",
    "    \"\"\"Perform operation on a + b, ()possibly truncating) & returning w/msg.\n",
    "\n",
    "    - operation: 'add', 'subtract', 'multiply', or 'divide'\n",
    "    - a and b: values to operate on\n",
    "    - make_int: (optional, defaults to False) if True, truncates to integer\n",
    "    - message: (optional) message to use (if not provided, use 'The result is')\n",
    "\n",
    "    Performs math operation (truncating if make_int), then returns as\n",
    "    \"[message] [result]\"\n",
    "\n",
    "        >>> calculate('add', 2.5, 4)\n",
    "        'The result is 6.5'\n",
    "\n",
    "        >>> calculate('subtract', 4, 1.5, make_int=True)\n",
    "        'The result is 2'\n",
    "\n",
    "        >>> calculate('multiply', 1.5, 2)\n",
    "        'The result is 3.0'\n",
    "\n",
    "        >>> calculate('divide', 10, 4, message='I got')\n",
    "        'I got 2.5'\n",
    "\n",
    "    If a valid operation isn't provided, return None.\n",
    "\n",
    "        >>> calculate('foo', 2, 3)\n",
    "        \n",
    "    \"\"\"\n"
   ]
  }
 ],
 "metadata": {
  "kernelspec": {
   "display_name": "Python 3 (ipykernel)",
   "language": "python",
   "name": "python3"
  },
  "language_info": {
   "codemirror_mode": {
    "name": "ipython",
    "version": 3
   },
   "file_extension": ".py",
   "mimetype": "text/x-python",
   "name": "python",
   "nbconvert_exporter": "python",
   "pygments_lexer": "ipython3",
   "version": "3.11.5"
  }
 },
 "nbformat": 4,
 "nbformat_minor": 5
}
