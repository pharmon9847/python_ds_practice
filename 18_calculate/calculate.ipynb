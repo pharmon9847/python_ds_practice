{
 "cells": [
  {
   "cell_type": "code",
   "execution_count": 2,
   "id": "a6ce4ce3-79e6-4561-9bf7-4a9445a6f347",
   "metadata": {},
   "outputs": [],
   "source": [
    "def calculate(operation, a, b, make_int=False, message='The result is'):\n",
    "    \"\"\"Perform operation on a + b, ()possibly truncating) & returning w/msg.\n",
    "\n",
    "    - operation: 'add', 'subtract', 'multiply', or 'divide'\n",
    "    - a and b: values to operate on\n",
    "    - make_int: (optional, defaults to False) if True, truncates to integer\n",
    "    - message: (optional) message to use (if not provided, use 'The result is')\n",
    "\n",
    "    Performs math operation (truncating if make_int), then returns as\n",
    "    \"[message] [result]\"\n",
    "\n",
    "        >>> calculate('add', 2.5, 4)\n",
    "        'The result is 6.5'\n",
    "\n",
    "        >>> calculate('subtract', 4, 1.5, make_int=True)\n",
    "        'The result is 2'\n",
    "\n",
    "        >>> calculate('multiply', 1.5, 2)\n",
    "        'The result is 3.0'\n",
    "\n",
    "        >>> calculate('divide', 10, 4, message='I got')\n",
    "        'I got 2.5'\n",
    "\n",
    "    If a valid operation isn't provided, return None.\n",
    "\n",
    "        >>> calculate('foo', 2, 3)\n",
    "        \n",
    "    \"\"\"\n",
    "    if operation == 'add':\n",
    "        res = a + b\n",
    "    elif operation == 'subtract':\n",
    "        res = a - b\n",
    "    elif operation == 'multiply':\n",
    "        res = a * b\n",
    "    elif operation == 'divide':\n",
    "        res = a / b\n",
    "    else:\n",
    "        return\n",
    "    \n",
    "    if make_int:\n",
    "        res = int(res)\n",
    "        \n",
    "    return f'{message} {res}'\n",
    "\n",
    "    "
   ]
  },
  {
   "cell_type": "code",
   "execution_count": 3,
   "id": "1a0b2024-e7d1-4033-b10d-5d037a729c65",
   "metadata": {
    "tags": []
   },
   "outputs": [
    {
     "data": {
      "text/plain": [
       "'The result is 6.5'"
      ]
     },
     "execution_count": 3,
     "metadata": {},
     "output_type": "execute_result"
    }
   ],
   "source": [
    "calculate('add', 2.5, 4)"
   ]
  },
  {
   "cell_type": "code",
   "execution_count": 4,
   "id": "7637105a-8e07-4da1-a4b1-784b2a1a5dfb",
   "metadata": {
    "tags": []
   },
   "outputs": [
    {
     "data": {
      "text/plain": [
       "'The result is 2'"
      ]
     },
     "execution_count": 4,
     "metadata": {},
     "output_type": "execute_result"
    }
   ],
   "source": [
    "calculate('subtract', 4, 1.5, make_int=True)"
   ]
  },
  {
   "cell_type": "code",
   "execution_count": 5,
   "id": "9030d199-0550-410f-be0b-3c7e4600bc66",
   "metadata": {
    "tags": []
   },
   "outputs": [
    {
     "data": {
      "text/plain": [
       "'The result is 3.0'"
      ]
     },
     "execution_count": 5,
     "metadata": {},
     "output_type": "execute_result"
    }
   ],
   "source": [
    "calculate('multiply', 1.5, 2)"
   ]
  },
  {
   "cell_type": "code",
   "execution_count": 6,
   "id": "cbb05a74-da7e-4416-9568-7b77b6859cf7",
   "metadata": {
    "tags": []
   },
   "outputs": [
    {
     "data": {
      "text/plain": [
       "'I got 2.5'"
      ]
     },
     "execution_count": 6,
     "metadata": {},
     "output_type": "execute_result"
    }
   ],
   "source": [
    "calculate('divide', 10, 4, message='I got')"
   ]
  },
  {
   "cell_type": "code",
   "execution_count": 7,
   "id": "b534aec5-35f8-4233-925c-e96b13e5b3cb",
   "metadata": {
    "tags": []
   },
   "outputs": [],
   "source": [
    "calculate('foo', 2, 3)"
   ]
  }
 ],
 "metadata": {
  "kernelspec": {
   "display_name": "Python 3 (ipykernel)",
   "language": "python",
   "name": "python3"
  },
  "language_info": {
   "codemirror_mode": {
    "name": "ipython",
    "version": 3
   },
   "file_extension": ".py",
   "mimetype": "text/x-python",
   "name": "python",
   "nbconvert_exporter": "python",
   "pygments_lexer": "ipython3",
   "version": "3.7.4"
  }
 },
 "nbformat": 4,
 "nbformat_minor": 5
}
