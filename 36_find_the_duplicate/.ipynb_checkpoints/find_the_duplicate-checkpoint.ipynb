{
 "cells": [
  {
   "cell_type": "code",
   "execution_count": null,
   "id": "8ba94d4a-809b-42c1-9a70-eefb80ad9320",
   "metadata": {},
   "outputs": [],
   "source": [
    "def find_the_duplicate(nums):\n",
    "    \"\"\"Find duplicate number in nums.\n",
    "\n",
    "    Given a list of nums with, at most, one duplicate, return the duplicate.\n",
    "    If there is no duplicate, return None\n",
    "\n",
    "        >>> find_the_duplicate([1, 2, 1, 4, 3, 12])\n",
    "        1\n",
    "\n",
    "        >>> find_the_duplicate([6, 1, 9, 5, 3, 4, 9])\n",
    "        9\n",
    "\n",
    "        >>> find_the_duplicate([2, 1, 3, 4]) is None\n",
    "        True\n",
    "    \"\"\"\n"
   ]
  }
 ],
 "metadata": {
  "kernelspec": {
   "display_name": "Python 3 (ipykernel)",
   "language": "python",
   "name": "python3"
  },
  "language_info": {
   "codemirror_mode": {
    "name": "ipython",
    "version": 3
   },
   "file_extension": ".py",
   "mimetype": "text/x-python",
   "name": "python",
   "nbconvert_exporter": "python",
   "pygments_lexer": "ipython3",
   "version": "3.11.5"
  }
 },
 "nbformat": 4,
 "nbformat_minor": 5
}
