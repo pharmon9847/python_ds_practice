{
 "cells": [
  {
   "cell_type": "code",
   "execution_count": 1,
   "id": "8ba94d4a-809b-42c1-9a70-eefb80ad9320",
   "metadata": {},
   "outputs": [],
   "source": [
    "def find_the_duplicate(nums):\n",
    "    \"\"\"Find duplicate number in nums.\n",
    "\n",
    "    Given a list of nums with, at most, one duplicate, return the duplicate.\n",
    "    If there is no duplicate, return None\n",
    "\n",
    "        >>> find_the_duplicate([1, 2, 1, 4, 3, 12])\n",
    "        1\n",
    "\n",
    "        >>> find_the_duplicate([6, 1, 9, 5, 3, 4, 9])\n",
    "        9\n",
    "\n",
    "        >>> find_the_duplicate([2, 1, 3, 4]) is None\n",
    "        True\n",
    "    \"\"\"\n",
    "\n",
    "    dup = set()\n",
    "    \n",
    "    for num in nums:\n",
    "        if num in dup:\n",
    "            return num\n",
    "        dup.add(num)"
   ]
  },
  {
   "cell_type": "code",
   "execution_count": 2,
   "id": "27d48a50-0af9-4f60-a9a6-986a3fd77725",
   "metadata": {
    "tags": []
   },
   "outputs": [
    {
     "data": {
      "text/plain": [
       "1"
      ]
     },
     "execution_count": 2,
     "metadata": {},
     "output_type": "execute_result"
    }
   ],
   "source": [
    "find_the_duplicate([1, 2, 1, 4, 3, 12])"
   ]
  },
  {
   "cell_type": "code",
   "execution_count": 3,
   "id": "cd96187b-b2a1-499a-a47d-0b19aa7e2e78",
   "metadata": {
    "tags": []
   },
   "outputs": [
    {
     "data": {
      "text/plain": [
       "9"
      ]
     },
     "execution_count": 3,
     "metadata": {},
     "output_type": "execute_result"
    }
   ],
   "source": [
    "find_the_duplicate([6, 1, 9, 5, 3, 4, 9])"
   ]
  },
  {
   "cell_type": "code",
   "execution_count": 4,
   "id": "cfc3f09a-0c14-4aaf-8b03-33dd431b743d",
   "metadata": {
    "tags": []
   },
   "outputs": [
    {
     "data": {
      "text/plain": [
       "True"
      ]
     },
     "execution_count": 4,
     "metadata": {},
     "output_type": "execute_result"
    }
   ],
   "source": [
    "find_the_duplicate([2, 1, 3, 4]) is None"
   ]
  }
 ],
 "metadata": {
  "kernelspec": {
   "display_name": "Python 3 (ipykernel)",
   "language": "python",
   "name": "python3"
  },
  "language_info": {
   "codemirror_mode": {
    "name": "ipython",
    "version": 3
   },
   "file_extension": ".py",
   "mimetype": "text/x-python",
   "name": "python",
   "nbconvert_exporter": "python",
   "pygments_lexer": "ipython3",
   "version": "3.11.5"
  }
 },
 "nbformat": 4,
 "nbformat_minor": 5
}
