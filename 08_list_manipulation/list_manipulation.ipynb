{
 "cells": [
  {
   "cell_type": "code",
   "execution_count": 63,
   "metadata": {},
   "outputs": [],
   "source": [
    "def list_manipulation(lst, command, location, value=None):\n",
    "    \"\"\"Mutate lst to add/remove from beginning or end.\n",
    "\n",
    "    - lst: list of values\n",
    "    - command: command, either \"remove\" or \"add\"\n",
    "    - location: location to remove/add, either \"beginning\" or \"end\"\n",
    "    - value: when adding, value to add\n",
    "\n",
    "    remove: remove item at beginning or end, and return item removed\n",
    "\n",
    "        >>> lst = [1, 2, 3]\n",
    "\n",
    "        >>> list_manipulation(lst, 'remove', 'end')\n",
    "        3\n",
    "\n",
    "        >>> list_manipulation(lst, 'remove', 'beginning')\n",
    "        1\n",
    "\n",
    "        >>> lst\n",
    "        [2]\n",
    "\n",
    "    add: add item at beginning/end, and return list\n",
    "\n",
    "        >>> lst = [1, 2, 3]\n",
    "\n",
    "        >>> list_manipulation(lst, 'add', 'beginning', 20)\n",
    "        [20, 1, 2, 3]\n",
    "\n",
    "        >>> list_manipulation(lst, 'add', 'end', 30)\n",
    "        [20, 1, 2, 3, 30]\n",
    "\n",
    "        >>> lst\n",
    "        [20, 1, 2, 3, 30]\n",
    "\n",
    "    Invalid commands or locations should return None:\n",
    "\n",
    "        >>> list_manipulation(lst, 'foo', 'end') is None\n",
    "        True\n",
    "\n",
    "        >>> list_manipulation(lst, 'add', 'dunno') is None\n",
    "        True\n",
    "    \"\"\"\n",
    "    \n",
    "    if command == 'remove' and location == 'end':\n",
    "        return lst.pop()\n",
    "    \n",
    "    if command == 'remove' and location == 'beginning':\n",
    "        return lst.pop(0)\n",
    "        \n",
    "    if command == 'add' and location == 'beginning':\n",
    "        return lst.insert(0, value)\n",
    "    \n",
    "    if command == 'add' and location == 'end':\n",
    "        return lst.append(value)\n",
    "    \n",
    "    if command != 'add' or command != 'remove':\n",
    "        return\n",
    "    \n",
    "    if location != 'beginning' or location != 'end':\n",
    "        return\n",
    "        \n",
    "#     if command == \"remove\":\n",
    "#         if location == \"end\":\n",
    "#             return lst.pop()\n",
    "#         elif location == \"beginning\":\n",
    "#             return lst.pop(0)\n",
    "\n",
    "#     elif command == \"add\":\n",
    "#         if location == \"beginning\":\n",
    "#             lst.insert(0, value)\n",
    "#             return lst\n",
    "#         elif location == \"end\":\n",
    "#             lst.append(value)\n",
    "#             return lst"
   ]
  },
  {
   "cell_type": "code",
   "execution_count": 64,
   "metadata": {
    "tags": []
   },
   "outputs": [],
   "source": [
    "lst = [1, 2, 3]"
   ]
  },
  {
   "cell_type": "code",
   "execution_count": 65,
   "metadata": {
    "tags": []
   },
   "outputs": [
    {
     "data": {
      "text/plain": [
       "3"
      ]
     },
     "execution_count": 65,
     "metadata": {},
     "output_type": "execute_result"
    }
   ],
   "source": [
    "list_manipulation(lst, 'remove', 'end')"
   ]
  },
  {
   "cell_type": "code",
   "execution_count": 66,
   "metadata": {
    "tags": []
   },
   "outputs": [
    {
     "data": {
      "text/plain": [
       "1"
      ]
     },
     "execution_count": 66,
     "metadata": {},
     "output_type": "execute_result"
    }
   ],
   "source": [
    "list_manipulation(lst, 'remove', 'beginning')"
   ]
  },
  {
   "cell_type": "code",
   "execution_count": 67,
   "metadata": {
    "tags": []
   },
   "outputs": [
    {
     "data": {
      "text/plain": [
       "[2]"
      ]
     },
     "execution_count": 67,
     "metadata": {},
     "output_type": "execute_result"
    }
   ],
   "source": [
    "lst"
   ]
  },
  {
   "cell_type": "code",
   "execution_count": 68,
   "metadata": {
    "tags": []
   },
   "outputs": [],
   "source": [
    "lst = [1, 2, 3]"
   ]
  },
  {
   "cell_type": "code",
   "execution_count": 69,
   "metadata": {
    "tags": []
   },
   "outputs": [
    {
     "data": {
      "text/plain": [
       "[20, 1, 2, 3]"
      ]
     },
     "execution_count": 69,
     "metadata": {},
     "output_type": "execute_result"
    }
   ],
   "source": [
    "list_manipulation(lst, 'add', 'beginning', 20)\n",
    "lst"
   ]
  },
  {
   "cell_type": "code",
   "execution_count": 70,
   "metadata": {
    "tags": []
   },
   "outputs": [
    {
     "data": {
      "text/plain": [
       "[20, 1, 2, 3, 30]"
      ]
     },
     "execution_count": 70,
     "metadata": {},
     "output_type": "execute_result"
    }
   ],
   "source": [
    "list_manipulation(lst, 'add', 'end', 30)\n",
    "lst"
   ]
  },
  {
   "cell_type": "code",
   "execution_count": 71,
   "metadata": {
    "tags": []
   },
   "outputs": [
    {
     "data": {
      "text/plain": [
       "[20, 1, 2, 3, 30]"
      ]
     },
     "execution_count": 71,
     "metadata": {},
     "output_type": "execute_result"
    }
   ],
   "source": [
    "lst"
   ]
  },
  {
   "cell_type": "code",
   "execution_count": 72,
   "metadata": {
    "tags": []
   },
   "outputs": [
    {
     "data": {
      "text/plain": [
       "True"
      ]
     },
     "execution_count": 72,
     "metadata": {},
     "output_type": "execute_result"
    }
   ],
   "source": [
    "list_manipulation(lst, 'foo', 'end') is None"
   ]
  },
  {
   "cell_type": "code",
   "execution_count": 73,
   "metadata": {
    "tags": []
   },
   "outputs": [
    {
     "data": {
      "text/plain": [
       "True"
      ]
     },
     "execution_count": 73,
     "metadata": {},
     "output_type": "execute_result"
    }
   ],
   "source": [
    "list_manipulation(lst, 'add', 'dunno') is None"
   ]
  }
 ],
 "metadata": {
  "kernelspec": {
   "display_name": "Python 3 (ipykernel)",
   "language": "python",
   "name": "python3"
  },
  "language_info": {
   "codemirror_mode": {
    "name": "ipython",
    "version": 3
   },
   "file_extension": ".py",
   "mimetype": "text/x-python",
   "name": "python",
   "nbconvert_exporter": "python",
   "pygments_lexer": "ipython3",
   "version": "3.11.5"
  }
 },
 "nbformat": 4,
 "nbformat_minor": 4
}
