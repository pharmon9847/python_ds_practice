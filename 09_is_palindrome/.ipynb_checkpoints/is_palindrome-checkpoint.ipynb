{
 "cells": [
  {
   "cell_type": "code",
   "execution_count": null,
   "metadata": {},
   "outputs": [],
   "source": [
    "def is_palindrome(phrase):\n",
    "    \"\"\"Is phrase a palindrome?\n",
    "\n",
    "    Return True/False if phrase is a palindrome (same read backwards and\n",
    "    forwards).\n",
    "\n",
    "        >>> is_palindrome('tacocat')\n",
    "        True\n",
    "\n",
    "        >>> is_palindrome('noon')\n",
    "        True\n",
    "\n",
    "        >>> is_palindrome('robert')\n",
    "        False\n",
    "\n",
    "    Should ignore capitalization/spaces when deciding:\n",
    "\n",
    "        >>> is_palindrome('taco cat')\n",
    "        True\n",
    "\n",
    "        >>> is_palindrome('Noon')\n",
    "        True\n",
    "    \"\"\"\n"
   ]
  }
 ],
 "metadata": {
  "kernelspec": {
   "display_name": "Python 3",
   "language": "python",
   "name": "python3"
  },
  "language_info": {
   "codemirror_mode": {
    "name": "ipython",
    "version": 3
   },
   "file_extension": ".py",
   "mimetype": "text/x-python",
   "name": "python",
   "nbconvert_exporter": "python",
   "pygments_lexer": "ipython3",
   "version": "3.7.4"
  }
 },
 "nbformat": 4,
 "nbformat_minor": 2
}
