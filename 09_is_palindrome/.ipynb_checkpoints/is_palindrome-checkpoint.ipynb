{
 "cells": [
  {
   "cell_type": "code",
   "execution_count": 4,
   "metadata": {},
   "outputs": [],
   "source": [
    "def is_palindrome(phrase):\n",
    "    \"\"\"Is phrase a palindrome?\n",
    "\n",
    "    Return True/False if phrase is a palindrome (same read backwards and\n",
    "    forwards).\n",
    "\n",
    "        >>> is_palindrome('tacocat')\n",
    "        True\n",
    "\n",
    "        >>> is_palindrome('noon')\n",
    "        True\n",
    "\n",
    "        >>> is_palindrome('robert')\n",
    "        False\n",
    "\n",
    "    Should ignore capitalization/spaces when deciding:\n",
    "\n",
    "        >>> is_palindrome('taco cat')\n",
    "        True\n",
    "\n",
    "        >>> is_palindrome('Noon')\n",
    "        True\n",
    "    \"\"\"\n",
    "    corrected_phrase = phrase.lower().replace(' ', '')\n",
    "    \n",
    "    return corrected_phrase == corrected_phrase[::-1]\n"
   ]
  },
  {
   "cell_type": "code",
   "execution_count": 5,
   "metadata": {
    "tags": []
   },
   "outputs": [
    {
     "data": {
      "text/plain": [
       "True"
      ]
     },
     "execution_count": 5,
     "metadata": {},
     "output_type": "execute_result"
    }
   ],
   "source": [
    "is_palindrome('tacocat')"
   ]
  },
  {
   "cell_type": "code",
   "execution_count": 6,
   "metadata": {
    "tags": []
   },
   "outputs": [
    {
     "data": {
      "text/plain": [
       "True"
      ]
     },
     "execution_count": 6,
     "metadata": {},
     "output_type": "execute_result"
    }
   ],
   "source": [
    "is_palindrome('noon')"
   ]
  },
  {
   "cell_type": "code",
   "execution_count": 7,
   "metadata": {
    "tags": []
   },
   "outputs": [
    {
     "data": {
      "text/plain": [
       "False"
      ]
     },
     "execution_count": 7,
     "metadata": {},
     "output_type": "execute_result"
    }
   ],
   "source": [
    "is_palindrome('robert')"
   ]
  }
 ],
 "metadata": {
  "kernelspec": {
   "display_name": "Python 3 (ipykernel)",
   "language": "python",
   "name": "python3"
  },
  "language_info": {
   "codemirror_mode": {
    "name": "ipython",
    "version": 3
   },
   "file_extension": ".py",
   "mimetype": "text/x-python",
   "name": "python",
   "nbconvert_exporter": "python",
   "pygments_lexer": "ipython3",
   "version": "3.11.5"
  }
 },
 "nbformat": 4,
 "nbformat_minor": 4
}
