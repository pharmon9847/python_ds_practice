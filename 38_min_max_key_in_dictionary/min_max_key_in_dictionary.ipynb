{
 "cells": [
  {
   "cell_type": "code",
   "execution_count": 1,
   "id": "bedf8680-8bfb-4a4e-9d50-c56cd1fd8ad5",
   "metadata": {},
   "outputs": [],
   "source": [
    "def min_max_keys(d):\n",
    "    \"\"\"Return tuple (min-keys, max-keys) in d.\n",
    "\n",
    "        >>> min_max_keys({2: 'a', 7: 'b', 1: 'c', 10: 'd', 4: 'e'})\n",
    "        (1, 10)\n",
    "\n",
    "    Works with any kind of key that can be compared, like strings:\n",
    "\n",
    "        >>> min_max_keys({\"apple\": \"red\", \"cherry\": \"red\", \"berry\": \"blue\"})\n",
    "        ('apple', 'cherry')\n",
    "    \"\"\"\n",
    "    \n",
    "    keys = d.keys()\n",
    "    \n",
    "    return (min(keys), max(keys))"
   ]
  },
  {
   "cell_type": "code",
   "execution_count": 2,
   "id": "b50b405c-bcaa-414e-892e-80b862087a47",
   "metadata": {
    "tags": []
   },
   "outputs": [
    {
     "data": {
      "text/plain": [
       "(1, 10)"
      ]
     },
     "execution_count": 2,
     "metadata": {},
     "output_type": "execute_result"
    }
   ],
   "source": [
    "min_max_keys({2: 'a', 7: 'b', 1: 'c', 10: 'd', 4: 'e'})"
   ]
  },
  {
   "cell_type": "code",
   "execution_count": 3,
   "id": "026a8c4b-194b-48f8-8e35-cf0b94aea356",
   "metadata": {
    "tags": []
   },
   "outputs": [
    {
     "data": {
      "text/plain": [
       "('apple', 'cherry')"
      ]
     },
     "execution_count": 3,
     "metadata": {},
     "output_type": "execute_result"
    }
   ],
   "source": [
    "min_max_keys({\"apple\": \"red\", \"cherry\": \"red\", \"berry\": \"blue\"})"
   ]
  }
 ],
 "metadata": {
  "kernelspec": {
   "display_name": "Python 3 (ipykernel)",
   "language": "python",
   "name": "python3"
  },
  "language_info": {
   "codemirror_mode": {
    "name": "ipython",
    "version": 3
   },
   "file_extension": ".py",
   "mimetype": "text/x-python",
   "name": "python",
   "nbconvert_exporter": "python",
   "pygments_lexer": "ipython3",
   "version": "3.11.5"
  }
 },
 "nbformat": 4,
 "nbformat_minor": 5
}
