{
 "cells": [
  {
   "cell_type": "code",
   "execution_count": null,
   "id": "bedf8680-8bfb-4a4e-9d50-c56cd1fd8ad5",
   "metadata": {},
   "outputs": [],
   "source": [
    "def min_max_keys(d):\n",
    "    \"\"\"Return tuple (min-keys, max-keys) in d.\n",
    "\n",
    "        >>> min_max_keys({2: 'a', 7: 'b', 1: 'c', 10: 'd', 4: 'e'})\n",
    "        (1, 10)\n",
    "\n",
    "    Works with any kind of key that can be compared, like strings:\n",
    "\n",
    "        >>> min_max_keys({\"apple\": \"red\", \"cherry\": \"red\", \"berry\": \"blue\"})\n",
    "        ('apple', 'cherry')\n",
    "    \"\"\""
   ]
  }
 ],
 "metadata": {
  "kernelspec": {
   "display_name": "Python 3 (ipykernel)",
   "language": "python",
   "name": "python3"
  },
  "language_info": {
   "codemirror_mode": {
    "name": "ipython",
    "version": 3
   },
   "file_extension": ".py",
   "mimetype": "text/x-python",
   "name": "python",
   "nbconvert_exporter": "python",
   "pygments_lexer": "ipython3",
   "version": "3.11.5"
  }
 },
 "nbformat": 4,
 "nbformat_minor": 5
}
