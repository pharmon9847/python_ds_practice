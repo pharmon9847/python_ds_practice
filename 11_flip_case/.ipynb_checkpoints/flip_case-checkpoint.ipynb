{
 "cells": [
  {
   "cell_type": "code",
   "execution_count": null,
   "metadata": {},
   "outputs": [],
   "source": [
    "def flip_case(phrase, to_swap):\n",
    "    \"\"\"Flip [to_swap] case each time it appears in phrase.\n",
    "\n",
    "        >>> flip_case('Aaaahhh', 'a')\n",
    "        'aAAAhhh'\n",
    "\n",
    "        >>> flip_case('Aaaahhh', 'A')\n",
    "        'aAAAhhh'\n",
    "\n",
    "        >>> flip_case('Aaaahhh', 'h')\n",
    "        'AaaaHHH'\n",
    "\n",
    "    \"\"\"\n"
   ]
  }
 ],
 "metadata": {
  "kernelspec": {
   "display_name": "Python 3",
   "language": "python",
   "name": "python3"
  },
  "language_info": {
   "codemirror_mode": {
    "name": "ipython",
    "version": 3
   },
   "file_extension": ".py",
   "mimetype": "text/x-python",
   "name": "python",
   "nbconvert_exporter": "python",
   "pygments_lexer": "ipython3",
   "version": "3.7.4"
  }
 },
 "nbformat": 4,
 "nbformat_minor": 2
}
