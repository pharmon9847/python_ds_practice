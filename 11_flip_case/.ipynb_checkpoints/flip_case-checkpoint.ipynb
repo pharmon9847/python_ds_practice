{
 "cells": [
  {
   "cell_type": "code",
   "execution_count": 3,
   "metadata": {},
   "outputs": [],
   "source": [
    "def flip_case(phrase, to_swap):\n",
    "    \"\"\"Flip [to_swap] case each time it appears in phrase.\n",
    "\n",
    "        >>> flip_case('Aaaahhh', 'a')\n",
    "        'aAAAhhh'\n",
    "\n",
    "        >>> flip_case('Aaaahhh', 'A')\n",
    "        'aAAAhhh'\n",
    "\n",
    "        >>> flip_case('Aaaahhh', 'h')\n",
    "        'AaaaHHH'\n",
    "\n",
    "    \"\"\"\n",
    "    to_swap = to_swap.lower()\n",
    "    result_string = ''\n",
    "    \n",
    "    for ltr in phrase:\n",
    "        if ltr.lower() == to_swap:\n",
    "            ltr = ltr.swapcase()\n",
    "        result_string += ltr\n",
    "    \n",
    "    return result_string\n"
   ]
  },
  {
   "cell_type": "code",
   "execution_count": 4,
   "metadata": {
    "tags": []
   },
   "outputs": [
    {
     "data": {
      "text/plain": [
       "'aAAAhhh'"
      ]
     },
     "execution_count": 4,
     "metadata": {},
     "output_type": "execute_result"
    }
   ],
   "source": [
    "flip_case('Aaaahhh', 'a')"
   ]
  },
  {
   "cell_type": "code",
   "execution_count": 5,
   "metadata": {
    "tags": []
   },
   "outputs": [
    {
     "data": {
      "text/plain": [
       "'aAAAhhh'"
      ]
     },
     "execution_count": 5,
     "metadata": {},
     "output_type": "execute_result"
    }
   ],
   "source": [
    "flip_case('Aaaahhh', 'A')"
   ]
  },
  {
   "cell_type": "code",
   "execution_count": 6,
   "metadata": {
    "tags": []
   },
   "outputs": [
    {
     "data": {
      "text/plain": [
       "'AaaaHHH'"
      ]
     },
     "execution_count": 6,
     "metadata": {},
     "output_type": "execute_result"
    }
   ],
   "source": [
    "flip_case('Aaaahhh', 'h')"
   ]
  }
 ],
 "metadata": {
  "kernelspec": {
   "display_name": "Python 3 (ipykernel)",
   "language": "python",
   "name": "python3"
  },
  "language_info": {
   "codemirror_mode": {
    "name": "ipython",
    "version": 3
   },
   "file_extension": ".py",
   "mimetype": "text/x-python",
   "name": "python",
   "nbconvert_exporter": "python",
   "pygments_lexer": "ipython3",
   "version": "3.11.5"
  }
 },
 "nbformat": 4,
 "nbformat_minor": 4
}
