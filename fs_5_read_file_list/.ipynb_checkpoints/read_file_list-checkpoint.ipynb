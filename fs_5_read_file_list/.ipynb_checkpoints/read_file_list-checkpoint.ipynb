{
 "cells": [
  {
   "cell_type": "code",
   "execution_count": 1,
   "id": "634a55ba-65de-4c7b-9869-1e98cd88d3d8",
   "metadata": {},
   "outputs": [],
   "source": [
    "def read_file_list(filename):\n",
    "    \"\"\"Read file and print out each line separately with a \"-\" before it.\n",
    "\n",
    "    For example, if we have a file, `dogs`, containing:\n",
    "        Fido\n",
    "        Whiskey\n",
    "        Dr. Sniffle\n",
    "\n",
    "    This should work:\n",
    "\n",
    "        >>> read_file_list(\"dogs\")\n",
    "        - Fido\n",
    "        - Whiskey\n",
    "        - Dr. Sniffle\n",
    "\n",
    "    It will raise an error if the file cannot be found.\n",
    "    \"\"\"\n",
    "\n",
    "    # hint: when you read lines of files, there will be a \"newline\"\n",
    "    # (end-of-line character) at the end of each line, and you want to\n",
    "    # strip that off before you print it. Do some research on that!\n",
    "    \n",
    "    with open(filename) as f:\n",
    "        for line in f:\n",
    "            line = line.strip()\n",
    "            print(f'- {line}')"
   ]
  },
  {
   "cell_type": "code",
   "execution_count": 2,
   "id": "f26064ce-1fdc-4b96-a558-ac86ee662a38",
   "metadata": {
    "tags": []
   },
   "outputs": [
    {
     "name": "stdout",
     "output_type": "stream",
     "text": [
      "- Fido\n",
      "- Whiskey\n",
      "- Dr. Sniffle\n"
     ]
    }
   ],
   "source": [
    "read_file_list(\"dogs\")"
   ]
  },
  {
   "cell_type": "code",
   "execution_count": 3,
   "id": "9d894daa-44de-4a1b-b9da-92043624b48f",
   "metadata": {
    "tags": []
   },
   "outputs": [
    {
     "name": "stdout",
     "output_type": "stream",
     "text": [
      "- Auden\n",
      "- Ezra\n",
      "- Fluffy\n",
      "- Meowsley\n"
     ]
    }
   ],
   "source": [
    "read_file_list(\"cats\")"
   ]
  }
 ],
 "metadata": {
  "kernelspec": {
   "display_name": "Python 3 (ipykernel)",
   "language": "python",
   "name": "python3"
  },
  "language_info": {
   "codemirror_mode": {
    "name": "ipython",
    "version": 3
   },
   "file_extension": ".py",
   "mimetype": "text/x-python",
   "name": "python",
   "nbconvert_exporter": "python",
   "pygments_lexer": "ipython3",
   "version": "3.11.5"
  }
 },
 "nbformat": 4,
 "nbformat_minor": 5
}
