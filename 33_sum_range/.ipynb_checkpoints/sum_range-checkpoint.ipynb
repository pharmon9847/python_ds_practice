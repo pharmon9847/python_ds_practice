{
 "cells": [
  {
   "cell_type": "code",
   "execution_count": null,
   "id": "686f6ace-736f-41a2-bb36-73942d749a4e",
   "metadata": {},
   "outputs": [],
   "source": [
    "def sum_range(nums, start=0, end=None):\n",
    "    \"\"\"Return sum of numbers from start...end.\n",
    "\n",
    "    - start: where to start (if not provided, start at list start)\n",
    "    - end: where to stop (include this index) (if not provided, go through end)\n",
    "\n",
    "        >>> nums = [1, 2, 3, 4]\n",
    "\n",
    "        >>> sum_range(nums)\n",
    "        10\n",
    "\n",
    "        >>> sum_range(nums, 1)\n",
    "        9\n",
    "\n",
    "        >>> sum_range(nums, end=2)\n",
    "        6\n",
    "\n",
    "        >>> sum_range(nums, 1, 3)\n",
    "        9\n",
    "\n",
    "    If end is after end of list, just go to end of list:\n",
    "\n",
    "        >>> sum_range(nums, 1, 99)\n",
    "        9\n",
    "    \"\"\"\n"
   ]
  }
 ],
 "metadata": {
  "kernelspec": {
   "display_name": "Python 3 (ipykernel)",
   "language": "python",
   "name": "python3"
  },
  "language_info": {
   "codemirror_mode": {
    "name": "ipython",
    "version": 3
   },
   "file_extension": ".py",
   "mimetype": "text/x-python",
   "name": "python",
   "nbconvert_exporter": "python",
   "pygments_lexer": "ipython3",
   "version": "3.11.5"
  }
 },
 "nbformat": 4,
 "nbformat_minor": 5
}
