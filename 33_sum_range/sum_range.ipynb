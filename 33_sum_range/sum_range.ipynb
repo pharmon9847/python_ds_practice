{
 "cells": [
  {
   "cell_type": "code",
   "execution_count": 1,
   "id": "686f6ace-736f-41a2-bb36-73942d749a4e",
   "metadata": {},
   "outputs": [],
   "source": [
    "def sum_range(nums, start=0, end=None):\n",
    "    \"\"\"Return sum of numbers from start...end.\n",
    "\n",
    "    - start: where to start (if not provided, start at list start)\n",
    "    - end: where to stop (include this index) (if not provided, go through end)\n",
    "\n",
    "        >>> nums = [1, 2, 3, 4]\n",
    "\n",
    "        >>> sum_range(nums)\n",
    "        10\n",
    "\n",
    "        >>> sum_range(nums, 1)\n",
    "        9\n",
    "\n",
    "        >>> sum_range(nums, end=2)\n",
    "        6\n",
    "\n",
    "        >>> sum_range(nums, 1, 3)\n",
    "        9\n",
    "\n",
    "    If end is after end of list, just go to end of list:\n",
    "\n",
    "        >>> sum_range(nums, 1, 99)\n",
    "        9\n",
    "    \"\"\"\n",
    "    \n",
    "    if end is None:\n",
    "        end = len(nums)\n",
    "        \n",
    "    return sum(nums[start:end + 1])"
   ]
  },
  {
   "cell_type": "code",
   "execution_count": 2,
   "id": "bfce5ce9-7bb9-4c22-a9ba-4bd96b00a97d",
   "metadata": {
    "tags": []
   },
   "outputs": [],
   "source": [
    "nums = [1, 2, 3, 4]"
   ]
  },
  {
   "cell_type": "code",
   "execution_count": 3,
   "id": "2b2d449f-f438-4386-b538-78e71a086f04",
   "metadata": {
    "tags": []
   },
   "outputs": [
    {
     "data": {
      "text/plain": [
       "10"
      ]
     },
     "execution_count": 3,
     "metadata": {},
     "output_type": "execute_result"
    }
   ],
   "source": [
    "sum_range(nums)"
   ]
  },
  {
   "cell_type": "code",
   "execution_count": 4,
   "id": "3dcbe11d-d024-41ec-829d-806e06d41311",
   "metadata": {
    "tags": []
   },
   "outputs": [
    {
     "data": {
      "text/plain": [
       "9"
      ]
     },
     "execution_count": 4,
     "metadata": {},
     "output_type": "execute_result"
    }
   ],
   "source": [
    "sum_range(nums, 1)"
   ]
  },
  {
   "cell_type": "code",
   "execution_count": 5,
   "id": "5aeafe3e-8ffd-41df-b982-3a44b6e0882d",
   "metadata": {
    "tags": []
   },
   "outputs": [
    {
     "data": {
      "text/plain": [
       "6"
      ]
     },
     "execution_count": 5,
     "metadata": {},
     "output_type": "execute_result"
    }
   ],
   "source": [
    "sum_range(nums, end=2)"
   ]
  },
  {
   "cell_type": "code",
   "execution_count": 6,
   "id": "281f77ef-5c89-4321-83a7-2a07eb1bfa55",
   "metadata": {
    "tags": []
   },
   "outputs": [
    {
     "data": {
      "text/plain": [
       "9"
      ]
     },
     "execution_count": 6,
     "metadata": {},
     "output_type": "execute_result"
    }
   ],
   "source": [
    "sum_range(nums, 1, 3)"
   ]
  },
  {
   "cell_type": "code",
   "execution_count": 7,
   "id": "4920a69e-cd26-4c1a-afcd-002a4b20e094",
   "metadata": {
    "tags": []
   },
   "outputs": [
    {
     "data": {
      "text/plain": [
       "9"
      ]
     },
     "execution_count": 7,
     "metadata": {},
     "output_type": "execute_result"
    }
   ],
   "source": [
    "sum_range(nums, 1, 99)"
   ]
  }
 ],
 "metadata": {
  "kernelspec": {
   "display_name": "Python 3 (ipykernel)",
   "language": "python",
   "name": "python3"
  },
  "language_info": {
   "codemirror_mode": {
    "name": "ipython",
    "version": 3
   },
   "file_extension": ".py",
   "mimetype": "text/x-python",
   "name": "python",
   "nbconvert_exporter": "python",
   "pygments_lexer": "ipython3",
   "version": "3.11.5"
  }
 },
 "nbformat": 4,
 "nbformat_minor": 5
}
