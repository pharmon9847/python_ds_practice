{
 "cells": [
  {
   "cell_type": "code",
   "execution_count": 1,
   "id": "942e93c1-bbea-4744-a59d-e2c752092802",
   "metadata": {},
   "outputs": [],
   "source": [
    "def valid_parentheses(parens):\n",
    "    \"\"\"Are the parentheses validly balanced?\n",
    "\n",
    "        >>> valid_parentheses(\"()\")\n",
    "        True\n",
    "\n",
    "        >>> valid_parentheses(\"()()\")\n",
    "        True\n",
    "\n",
    "        >>> valid_parentheses(\"(()())\")\n",
    "        True\n",
    "\n",
    "        >>> valid_parentheses(\")()\")\n",
    "        False\n",
    "\n",
    "        >>> valid_parentheses(\"())\")\n",
    "        False\n",
    "\n",
    "        >>> valid_parentheses(\"((())\")\n",
    "        False\n",
    "\n",
    "        >>> valid_parentheses(\")()(\")\n",
    "        False\n",
    "    \"\"\"\n",
    "    \n",
    "    count = 0\n",
    "    \n",
    "    for p in parens:\n",
    "        if p == '(':\n",
    "            count += 1\n",
    "        elif p == ')':\n",
    "            count -= 1\n",
    "            \n",
    "        if count < 0:\n",
    "            return False\n",
    "        \n",
    "    return count == 0"
   ]
  },
  {
   "cell_type": "code",
   "execution_count": 2,
   "id": "f8c14937-dce4-416e-83b6-7dbcc16ab53f",
   "metadata": {
    "tags": []
   },
   "outputs": [
    {
     "data": {
      "text/plain": [
       "True"
      ]
     },
     "execution_count": 2,
     "metadata": {},
     "output_type": "execute_result"
    }
   ],
   "source": [
    "valid_parentheses(\"()\")"
   ]
  },
  {
   "cell_type": "code",
   "execution_count": 3,
   "id": "821aa1d0-43e0-4216-8d8d-aac814bd5d58",
   "metadata": {
    "tags": []
   },
   "outputs": [
    {
     "data": {
      "text/plain": [
       "True"
      ]
     },
     "execution_count": 3,
     "metadata": {},
     "output_type": "execute_result"
    }
   ],
   "source": [
    "valid_parentheses(\"()()\")"
   ]
  },
  {
   "cell_type": "code",
   "execution_count": 4,
   "id": "a6679957-a700-45da-af8a-177eefbbfaab",
   "metadata": {
    "tags": []
   },
   "outputs": [
    {
     "data": {
      "text/plain": [
       "True"
      ]
     },
     "execution_count": 4,
     "metadata": {},
     "output_type": "execute_result"
    }
   ],
   "source": [
    "valid_parentheses(\"(()())\")"
   ]
  },
  {
   "cell_type": "code",
   "execution_count": 5,
   "id": "98c88556-23c8-4d4c-85c4-ab6d6356f10f",
   "metadata": {
    "tags": []
   },
   "outputs": [
    {
     "data": {
      "text/plain": [
       "False"
      ]
     },
     "execution_count": 5,
     "metadata": {},
     "output_type": "execute_result"
    }
   ],
   "source": [
    "valid_parentheses(\")()\")"
   ]
  },
  {
   "cell_type": "code",
   "execution_count": 6,
   "id": "9b99f98f-6327-4af3-8d1b-22fbfebd6cfd",
   "metadata": {
    "tags": []
   },
   "outputs": [
    {
     "data": {
      "text/plain": [
       "False"
      ]
     },
     "execution_count": 6,
     "metadata": {},
     "output_type": "execute_result"
    }
   ],
   "source": [
    "valid_parentheses(\"())\")"
   ]
  },
  {
   "cell_type": "code",
   "execution_count": 7,
   "id": "8b8b9c08-3953-44b9-96d1-2f04fca3ac72",
   "metadata": {
    "tags": []
   },
   "outputs": [
    {
     "data": {
      "text/plain": [
       "False"
      ]
     },
     "execution_count": 7,
     "metadata": {},
     "output_type": "execute_result"
    }
   ],
   "source": [
    "valid_parentheses(\"((())\")"
   ]
  },
  {
   "cell_type": "code",
   "execution_count": 8,
   "id": "f4126fbc-1455-4d58-813b-b6335026a0b1",
   "metadata": {
    "tags": []
   },
   "outputs": [
    {
     "data": {
      "text/plain": [
       "False"
      ]
     },
     "execution_count": 8,
     "metadata": {},
     "output_type": "execute_result"
    }
   ],
   "source": [
    "valid_parentheses(\")()(\")"
   ]
  }
 ],
 "metadata": {
  "kernelspec": {
   "display_name": "Python 3 (ipykernel)",
   "language": "python",
   "name": "python3"
  },
  "language_info": {
   "codemirror_mode": {
    "name": "ipython",
    "version": 3
   },
   "file_extension": ".py",
   "mimetype": "text/x-python",
   "name": "python",
   "nbconvert_exporter": "python",
   "pygments_lexer": "ipython3",
   "version": "3.11.5"
  }
 },
 "nbformat": 4,
 "nbformat_minor": 5
}
