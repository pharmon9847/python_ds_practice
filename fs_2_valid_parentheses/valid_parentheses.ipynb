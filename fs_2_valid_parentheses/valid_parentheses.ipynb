{
 "cells": [
  {
   "cell_type": "code",
   "execution_count": null,
   "id": "942e93c1-bbea-4744-a59d-e2c752092802",
   "metadata": {},
   "outputs": [],
   "source": [
    "def valid_parentheses(parens):\n",
    "    \"\"\"Are the parentheses validly balanced?\n",
    "\n",
    "        >>> valid_parentheses(\"()\")\n",
    "        True\n",
    "\n",
    "        >>> valid_parentheses(\"()()\")\n",
    "        True\n",
    "\n",
    "        >>> valid_parentheses(\"(()())\")\n",
    "        True\n",
    "\n",
    "        >>> valid_parentheses(\")()\")\n",
    "        False\n",
    "\n",
    "        >>> valid_parentheses(\"())\")\n",
    "        False\n",
    "\n",
    "        >>> valid_parentheses(\"((())\")\n",
    "        False\n",
    "\n",
    "        >>> valid_parentheses(\")()(\")\n",
    "        False\n",
    "    \"\"\""
   ]
  }
 ],
 "metadata": {
  "kernelspec": {
   "display_name": "Python 3 (ipykernel)",
   "language": "python",
   "name": "python3"
  },
  "language_info": {
   "codemirror_mode": {
    "name": "ipython",
    "version": 3
   },
   "file_extension": ".py",
   "mimetype": "text/x-python",
   "name": "python",
   "nbconvert_exporter": "python",
   "pygments_lexer": "ipython3",
   "version": "3.11.5"
  }
 },
 "nbformat": 4,
 "nbformat_minor": 5
}
