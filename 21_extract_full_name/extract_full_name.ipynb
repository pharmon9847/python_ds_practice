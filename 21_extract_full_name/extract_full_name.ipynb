{
 "cells": [
  {
   "cell_type": "code",
   "execution_count": 5,
   "id": "44ea0984-fdc2-41e7-a73c-ae038e1bf6c6",
   "metadata": {},
   "outputs": [],
   "source": [
    "def extract_full_names(people):\n",
    "    \"\"\"Return list of names, extracting from first+last keys in people dicts.\n",
    "\n",
    "    - people: list of dictionaries, each with 'first' and 'last' keys for\n",
    "              first and last names\n",
    "\n",
    "    Returns list of space-separated first and last names.\n",
    "\n",
    "        >>> names = [\n",
    "        ...     {'first': 'Ada', 'last': 'Lovelace'},\n",
    "        ...     {'first': 'Grace', 'last': 'Hopper'},\n",
    "        ... ]\n",
    "\n",
    "        >>> extract_full_names(names)\n",
    "        ['Ada Lovelace', 'Grace Hopper']\n",
    "    \"\"\"\n",
    "    return [f\"{person['first']} {person['last']}\" for person in people]"
   ]
  },
  {
   "cell_type": "code",
   "execution_count": 6,
   "id": "cbb95fff-229f-4667-b75e-9e372cafa67b",
   "metadata": {
    "tags": []
   },
   "outputs": [
    {
     "data": {
      "text/plain": [
       "['Ada Lovelace', 'Grace Hopper']"
      ]
     },
     "execution_count": 6,
     "metadata": {},
     "output_type": "execute_result"
    }
   ],
   "source": [
    "names = [\n",
    "    {'first': 'Ada', 'last': 'Lovelace'},\n",
    "    {'first': 'Grace', 'last': 'Hopper'},\n",
    "]\n",
    "\n",
    "extract_full_names(names)"
   ]
  }
 ],
 "metadata": {
  "kernelspec": {
   "display_name": "Python 3 (ipykernel)",
   "language": "python",
   "name": "python3"
  },
  "language_info": {
   "codemirror_mode": {
    "name": "ipython",
    "version": 3
   },
   "file_extension": ".py",
   "mimetype": "text/x-python",
   "name": "python",
   "nbconvert_exporter": "python",
   "pygments_lexer": "ipython3",
   "version": "3.11.5"
  }
 },
 "nbformat": 4,
 "nbformat_minor": 5
}
