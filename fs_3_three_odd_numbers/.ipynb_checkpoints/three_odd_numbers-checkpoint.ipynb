{
 "cells": [
  {
   "cell_type": "code",
   "execution_count": null,
   "id": "2047afd8-ae3e-4d7b-8fde-00ed25fbfedb",
   "metadata": {},
   "outputs": [],
   "source": [
    "def three_odd_numbers(nums):\n",
    "    \"\"\"Is the sum of any 3 sequential numbers odd?\"\n",
    "\n",
    "        >>> three_odd_numbers([1, 2, 3, 4, 5])\n",
    "        True\n",
    "\n",
    "        >>> three_odd_numbers([0, -2, 4, 1, 9, 12, 4, 1, 0])\n",
    "        True\n",
    "\n",
    "        >>> three_odd_numbers([5, 2, 1])\n",
    "        False\n",
    "\n",
    "        >>> three_odd_numbers([1, 2, 3, 3, 2])\n",
    "        False\n",
    "    \"\"\"\n"
   ]
  }
 ],
 "metadata": {
  "kernelspec": {
   "display_name": "Python 3 (ipykernel)",
   "language": "python",
   "name": "python3"
  },
  "language_info": {
   "codemirror_mode": {
    "name": "ipython",
    "version": 3
   },
   "file_extension": ".py",
   "mimetype": "text/x-python",
   "name": "python",
   "nbconvert_exporter": "python",
   "pygments_lexer": "ipython3",
   "version": "3.11.5"
  }
 },
 "nbformat": 4,
 "nbformat_minor": 5
}
