{
 "cells": [
  {
   "cell_type": "code",
   "execution_count": 1,
   "id": "2047afd8-ae3e-4d7b-8fde-00ed25fbfedb",
   "metadata": {},
   "outputs": [],
   "source": [
    "def three_odd_numbers(nums):\n",
    "    \"\"\"Is the sum of any 3 sequential numbers odd?\"\n",
    "\n",
    "        >>> three_odd_numbers([1, 2, 3, 4, 5])\n",
    "        True\n",
    "\n",
    "        >>> three_odd_numbers([0, -2, 4, 1, 9, 12, 4, 1, 0])\n",
    "        True\n",
    "\n",
    "        >>> three_odd_numbers([5, 2, 1])\n",
    "        False\n",
    "\n",
    "        >>> three_odd_numbers([1, 2, 3, 3, 2])\n",
    "        False\n",
    "    \"\"\"\n",
    "    \n",
    "    for x in range(len(nums) - 2):\n",
    "        if (nums[x] + nums[x + 1] + nums[x + 2]) % 2 != 0:\n",
    "            return True\n",
    "        \n",
    "    return False"
   ]
  },
  {
   "cell_type": "code",
   "execution_count": 2,
   "id": "c0c284eb-bf19-4d04-96d6-3e127503d058",
   "metadata": {
    "tags": []
   },
   "outputs": [
    {
     "data": {
      "text/plain": [
       "True"
      ]
     },
     "execution_count": 2,
     "metadata": {},
     "output_type": "execute_result"
    }
   ],
   "source": [
    "three_odd_numbers([1, 2, 3, 4, 5])"
   ]
  },
  {
   "cell_type": "code",
   "execution_count": 3,
   "id": "86ea059d-f45b-4cd4-b8c2-6176d0bab486",
   "metadata": {
    "tags": []
   },
   "outputs": [
    {
     "data": {
      "text/plain": [
       "True"
      ]
     },
     "execution_count": 3,
     "metadata": {},
     "output_type": "execute_result"
    }
   ],
   "source": [
    "three_odd_numbers([0, -2, 4, 1, 9, 12, 4, 1, 0])"
   ]
  },
  {
   "cell_type": "code",
   "execution_count": 4,
   "id": "c38af923-050d-4b52-8db7-1231f31aaebc",
   "metadata": {
    "tags": []
   },
   "outputs": [
    {
     "data": {
      "text/plain": [
       "False"
      ]
     },
     "execution_count": 4,
     "metadata": {},
     "output_type": "execute_result"
    }
   ],
   "source": [
    "three_odd_numbers([5, 2, 1])"
   ]
  },
  {
   "cell_type": "code",
   "execution_count": 5,
   "id": "ac99b42a-bbf1-4920-a33f-ed9dd4249dbb",
   "metadata": {
    "tags": []
   },
   "outputs": [
    {
     "data": {
      "text/plain": [
       "False"
      ]
     },
     "execution_count": 5,
     "metadata": {},
     "output_type": "execute_result"
    }
   ],
   "source": [
    "three_odd_numbers([1, 2, 3, 3, 2])"
   ]
  }
 ],
 "metadata": {
  "kernelspec": {
   "display_name": "Python 3 (ipykernel)",
   "language": "python",
   "name": "python3"
  },
  "language_info": {
   "codemirror_mode": {
    "name": "ipython",
    "version": 3
   },
   "file_extension": ".py",
   "mimetype": "text/x-python",
   "name": "python",
   "nbconvert_exporter": "python",
   "pygments_lexer": "ipython3",
   "version": "3.11.5"
  }
 },
 "nbformat": 4,
 "nbformat_minor": 5
}
