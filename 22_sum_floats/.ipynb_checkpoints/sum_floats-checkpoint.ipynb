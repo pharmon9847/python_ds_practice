{
 "cells": [
  {
   "cell_type": "code",
   "execution_count": null,
   "id": "e251375c-6b10-4ce6-b04c-e81b86a6a2af",
   "metadata": {},
   "outputs": [],
   "source": [
    "def sum_floats(nums):\n",
    "    \"\"\"Return sum of floating point numbers in nums.\n",
    "    \n",
    "        >>> sum_floats([1.5, 2.4, 'awesome', [], 1])\n",
    "        3.9\n",
    "        \n",
    "        >>> sum_floats([1, 2, 3])\n",
    "        0\n",
    "    \"\"\"\n",
    "\n",
    "    # hint: to find out if something is a float, you should use the\n",
    "    # \"isinstance\" function --- research how to use this to find out\n",
    "    # if something is a float!\n"
   ]
  }
 ],
 "metadata": {
  "kernelspec": {
   "display_name": "Python 3 (ipykernel)",
   "language": "python",
   "name": "python3"
  },
  "language_info": {
   "codemirror_mode": {
    "name": "ipython",
    "version": 3
   },
   "file_extension": ".py",
   "mimetype": "text/x-python",
   "name": "python",
   "nbconvert_exporter": "python",
   "pygments_lexer": "ipython3",
   "version": "3.11.5"
  }
 },
 "nbformat": 4,
 "nbformat_minor": 5
}
