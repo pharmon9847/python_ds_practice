{
 "cells": [
  {
   "cell_type": "code",
   "execution_count": null,
   "metadata": {},
   "outputs": [],
   "source": [
    "def single_letter_count(word, letter):\n",
    "    \"\"\"How many times does letter appear in word (case-insensitively)?\n",
    "    \n",
    "        >>> single_letter_count('Hello World', 'h')\n",
    "        1\n",
    "        \n",
    "        >>> single_letter_count('Hello World', 'z')\n",
    "        0\n",
    "        \n",
    "        >>> single_letter_count(\"Hello World\", 'l')\n",
    "        3\n",
    "    \"\"\""
   ]
  }
 ],
 "metadata": {
  "kernelspec": {
   "display_name": "Python 3",
   "language": "python",
   "name": "python3"
  },
  "language_info": {
   "codemirror_mode": {
    "name": "ipython",
    "version": 3
   },
   "file_extension": ".py",
   "mimetype": "text/x-python",
   "name": "python",
   "nbconvert_exporter": "python",
   "pygments_lexer": "ipython3",
   "version": "3.7.4"
  }
 },
 "nbformat": 4,
 "nbformat_minor": 2
}
