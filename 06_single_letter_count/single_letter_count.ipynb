{
 "cells": [
  {
   "cell_type": "code",
   "execution_count": 20,
   "metadata": {},
   "outputs": [],
   "source": [
    "def single_letter_count(word, letter):\n",
    "    \"\"\"How many times does letter appear in word (case-insensitively)?\n",
    "    \n",
    "        >>> single_letter_count('Hello World', 'h')\n",
    "        1\n",
    "        \n",
    "        >>> single_letter_count('Hello World', 'z')\n",
    "        0\n",
    "        \n",
    "        >>> single_letter_count(\"Hello World\", 'l')\n",
    "        3\n",
    "    \"\"\"\n",
    "    wrd = word.lower()\n",
    "    ltr = letter.lower()\n",
    "    cnt = wrd.count(ltr)\n",
    "    return cnt\n",
    "\n",
    "    # return word.lower().count(letter.lower())"
   ]
  },
  {
   "cell_type": "code",
   "execution_count": 21,
   "metadata": {
    "tags": []
   },
   "outputs": [
    {
     "data": {
      "text/plain": [
       "1"
      ]
     },
     "execution_count": 21,
     "metadata": {},
     "output_type": "execute_result"
    }
   ],
   "source": [
    "single_letter_count('Hello World', 'h')"
   ]
  },
  {
   "cell_type": "code",
   "execution_count": 22,
   "metadata": {
    "tags": []
   },
   "outputs": [
    {
     "data": {
      "text/plain": [
       "0"
      ]
     },
     "execution_count": 22,
     "metadata": {},
     "output_type": "execute_result"
    }
   ],
   "source": [
    "single_letter_count('Hello World', 'z')"
   ]
  },
  {
   "cell_type": "code",
   "execution_count": 23,
   "metadata": {
    "tags": []
   },
   "outputs": [
    {
     "data": {
      "text/plain": [
       "3"
      ]
     },
     "execution_count": 23,
     "metadata": {},
     "output_type": "execute_result"
    }
   ],
   "source": [
    "single_letter_count(\"Hello World\", 'l')"
   ]
  }
 ],
 "metadata": {
  "kernelspec": {
   "display_name": "Python 3 (ipykernel)",
   "language": "python",
   "name": "python3"
  },
  "language_info": {
   "codemirror_mode": {
    "name": "ipython",
    "version": 3
   },
   "file_extension": ".py",
   "mimetype": "text/x-python",
   "name": "python",
   "nbconvert_exporter": "python",
   "pygments_lexer": "ipython3",
   "version": "3.11.5"
  }
 },
 "nbformat": 4,
 "nbformat_minor": 4
}
