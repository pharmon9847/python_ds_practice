{
 "cells": [
  {
   "cell_type": "code",
   "execution_count": null,
   "id": "d114600e-27ac-4ce0-b0e4-113a662b3d4a",
   "metadata": {},
   "outputs": [],
   "source": [
    "def find_factors(num):\n",
    "    \"\"\"Find factors of num, in increasing order.\n",
    "\n",
    "    >>> find_factors(10)\n",
    "    [1, 2, 5, 10]\n",
    "\n",
    "    >>> find_factors(11)\n",
    "    [1, 11]\n",
    "\n",
    "    >>> find_factors(111)\n",
    "    [1, 3, 37, 111]\n",
    "\n",
    "    >>> find_factors(321421)\n",
    "    [1, 293, 1097, 321421]\n",
    "    \"\"\"\n"
   ]
  }
 ],
 "metadata": {
  "kernelspec": {
   "display_name": "Python 3 (ipykernel)",
   "language": "python",
   "name": "python3"
  },
  "language_info": {
   "codemirror_mode": {
    "name": "ipython",
    "version": 3
   },
   "file_extension": ".py",
   "mimetype": "text/x-python",
   "name": "python",
   "nbconvert_exporter": "python",
   "pygments_lexer": "ipython3",
   "version": "3.11.5"
  }
 },
 "nbformat": 4,
 "nbformat_minor": 5
}
