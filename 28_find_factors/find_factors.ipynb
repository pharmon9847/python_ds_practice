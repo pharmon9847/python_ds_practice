{
 "cells": [
  {
   "cell_type": "code",
   "execution_count": 12,
   "id": "d114600e-27ac-4ce0-b0e4-113a662b3d4a",
   "metadata": {},
   "outputs": [],
   "source": [
    "def find_factors(num):\n",
    "    \"\"\"Find factors of num, in increasing order.\n",
    "\n",
    "    >>> find_factors(10)\n",
    "    [1, 2, 5, 10]\n",
    "\n",
    "    >>> find_factors(11)\n",
    "    [1, 11]\n",
    "\n",
    "    >>> find_factors(111)\n",
    "    [1, 3, 37, 111]\n",
    "\n",
    "    >>> find_factors(321421)\n",
    "    [1, 293, 1097, 321421]\n",
    "    \"\"\"\n",
    "    \n",
    "    num_list = [n for n in range (1, num // 2 + 1) if num % n == 0]\n",
    "    \n",
    "    num_list.append(num)\n",
    "    \n",
    "    return num_list"
   ]
  },
  {
   "cell_type": "code",
   "execution_count": 13,
   "id": "20eab26a-8ef0-48e2-9170-f1485593ee07",
   "metadata": {
    "tags": []
   },
   "outputs": [
    {
     "data": {
      "text/plain": [
       "[1, 2, 5, 10]"
      ]
     },
     "execution_count": 13,
     "metadata": {},
     "output_type": "execute_result"
    }
   ],
   "source": [
    "find_factors(10)"
   ]
  },
  {
   "cell_type": "code",
   "execution_count": 14,
   "id": "0f85d7e1-5e65-496f-976f-a4f53b97768d",
   "metadata": {
    "tags": []
   },
   "outputs": [
    {
     "data": {
      "text/plain": [
       "[1, 11]"
      ]
     },
     "execution_count": 14,
     "metadata": {},
     "output_type": "execute_result"
    }
   ],
   "source": [
    "find_factors(11)"
   ]
  },
  {
   "cell_type": "code",
   "execution_count": 15,
   "id": "5e116438-accc-4e1b-b7f8-f038a03e6e6a",
   "metadata": {
    "tags": []
   },
   "outputs": [
    {
     "data": {
      "text/plain": [
       "[1, 3, 37, 111]"
      ]
     },
     "execution_count": 15,
     "metadata": {},
     "output_type": "execute_result"
    }
   ],
   "source": [
    "find_factors(111)"
   ]
  },
  {
   "cell_type": "code",
   "execution_count": 16,
   "id": "97bbb6a7-5cb6-4d62-b95b-fa961a3f6c5a",
   "metadata": {
    "tags": []
   },
   "outputs": [
    {
     "data": {
      "text/plain": [
       "[1, 293, 1097, 321421]"
      ]
     },
     "execution_count": 16,
     "metadata": {},
     "output_type": "execute_result"
    }
   ],
   "source": [
    "find_factors(321421)"
   ]
  }
 ],
 "metadata": {
  "kernelspec": {
   "display_name": "Python 3 (ipykernel)",
   "language": "python",
   "name": "python3"
  },
  "language_info": {
   "codemirror_mode": {
    "name": "ipython",
    "version": 3
   },
   "file_extension": ".py",
   "mimetype": "text/x-python",
   "name": "python",
   "nbconvert_exporter": "python",
   "pygments_lexer": "ipython3",
   "version": "3.11.5"
  }
 },
 "nbformat": 4,
 "nbformat_minor": 5
}
