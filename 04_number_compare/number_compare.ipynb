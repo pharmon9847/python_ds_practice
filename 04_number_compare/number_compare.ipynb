{
 "cells": [
  {
   "cell_type": "code",
   "execution_count": 13,
   "metadata": {},
   "outputs": [],
   "source": [
    "def number_compare(a, b):\n",
    "    \"\"\"Report on whether a>b, b>a, or b==a\n",
    "    \n",
    "        >>> number_compare(1, 1)\n",
    "        'Numbers are equal'\n",
    "        \n",
    "        >>> number_compare(-1, 1)\n",
    "        'Second is greater'\n",
    "        \n",
    "        >>> number_compare(1, -2)\n",
    "        'First is greater'\n",
    "    \"\"\"\n",
    "    if a > b:\n",
    "        print('First is greater')\n",
    "    if a < b:\n",
    "        print('Second is greater')\n",
    "    if a == b:\n",
    "        print('Numbers are equal')\n",
    "\n",
    "#     if a > b:\n",
    "#         return 'first is greater'\n",
    "#     elif b > a:\n",
    "#         return 'second is greater'\n",
    "#     else:\n",
    "#         return 'numbers are equal'\n",
    "    "
   ]
  },
  {
   "cell_type": "code",
   "execution_count": 14,
   "metadata": {},
   "outputs": [
    {
     "name": "stdout",
     "output_type": "stream",
     "text": [
      "Numbers are equal\n"
     ]
    }
   ],
   "source": [
    "number_compare(1, 1)"
   ]
  },
  {
   "cell_type": "code",
   "execution_count": 15,
   "metadata": {},
   "outputs": [
    {
     "name": "stdout",
     "output_type": "stream",
     "text": [
      "Second is greater\n"
     ]
    }
   ],
   "source": [
    "number_compare(-1, 1)"
   ]
  },
  {
   "cell_type": "code",
   "execution_count": 16,
   "metadata": {},
   "outputs": [
    {
     "name": "stdout",
     "output_type": "stream",
     "text": [
      "First is greater\n"
     ]
    }
   ],
   "source": [
    "number_compare(1, -2)"
   ]
  },
  {
   "cell_type": "code",
   "execution_count": null,
   "metadata": {},
   "outputs": [],
   "source": []
  }
 ],
 "metadata": {
  "kernelspec": {
   "display_name": "Python 3",
   "language": "python",
   "name": "python3"
  },
  "language_info": {
   "codemirror_mode": {
    "name": "ipython",
    "version": 3
   },
   "file_extension": ".py",
   "mimetype": "text/x-python",
   "name": "python",
   "nbconvert_exporter": "python",
   "pygments_lexer": "ipython3",
   "version": "3.7.4"
  }
 },
 "nbformat": 4,
 "nbformat_minor": 2
}
