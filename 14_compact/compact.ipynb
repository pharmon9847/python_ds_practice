{
 "cells": [
  {
   "cell_type": "code",
   "execution_count": 7,
   "id": "acd7f5ba-41bf-4694-8a9e-fd0fc583c5d9",
   "metadata": {
    "tags": []
   },
   "outputs": [],
   "source": [
    "def compact(lst):\n",
    "    \"\"\"Return a copy of lst with non-true elements removed.\n",
    "\n",
    "        >>> compact([0, 1, 2, '', [], False, (), None, 'All done'])\n",
    "        [1, 2, 'All done']\n",
    "    \"\"\"\n",
    "    return list(filter(bool, lst))\n",
    "    \n",
    "    # return [val for val in lst if val]\n"
   ]
  },
  {
   "cell_type": "code",
   "execution_count": 8,
   "id": "23c10f22-d4fa-4bfc-ac5d-d029a33a66c6",
   "metadata": {
    "tags": []
   },
   "outputs": [
    {
     "data": {
      "text/plain": [
       "[1, 2, 'All done']"
      ]
     },
     "execution_count": 8,
     "metadata": {},
     "output_type": "execute_result"
    }
   ],
   "source": [
    "compact([0, 1, 2, '', [], False, (), None, 'All done'])"
   ]
  }
 ],
 "metadata": {
  "kernelspec": {
   "display_name": "Python 3 (ipykernel)",
   "language": "python",
   "name": "python3"
  },
  "language_info": {
   "codemirror_mode": {
    "name": "ipython",
    "version": 3
   },
   "file_extension": ".py",
   "mimetype": "text/x-python",
   "name": "python",
   "nbconvert_exporter": "python",
   "pygments_lexer": "ipython3",
   "version": "3.11.5"
  }
 },
 "nbformat": 4,
 "nbformat_minor": 5
}
