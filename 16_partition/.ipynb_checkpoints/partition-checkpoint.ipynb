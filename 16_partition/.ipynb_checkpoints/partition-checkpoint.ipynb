{
 "cells": [
  {
   "cell_type": "code",
   "execution_count": null,
   "metadata": {},
   "outputs": [],
   "source": [
    "def partition(lst, fn):\n",
    "    \"\"\"Partition lst by predicate.\n",
    "     \n",
    "     - lst: list of items\n",
    "     - fn: function that returns True or False\n",
    "     \n",
    "     Returns new list: [a, b], where `a` are items that passed fn test,\n",
    "     and `b` are items that failed fn test.\n",
    "\n",
    "        >>> def is_even(num):\n",
    "        ...     return num % 2 == 0\n",
    "        \n",
    "        >>> def is_string(el):\n",
    "        ...     return isinstance(el, str)\n",
    "        \n",
    "        >>> partition([1, 2, 3, 4], is_even)\n",
    "        [[2, 4], [1, 3]]\n",
    "        \n",
    "        >>> partition([\"hi\", None, 6, \"bye\"], is_string)\n",
    "        [['hi', 'bye'], [None, 6]]\n",
    "    \"\"\""
   ]
  }
 ],
 "metadata": {
  "kernelspec": {
   "display_name": "Python 3",
   "language": "python",
   "name": "python3"
  },
  "language_info": {
   "codemirror_mode": {
    "name": "ipython",
    "version": 3
   },
   "file_extension": ".py",
   "mimetype": "text/x-python",
   "name": "python",
   "nbconvert_exporter": "python",
   "pygments_lexer": "ipython3",
   "version": "3.7.4"
  }
 },
 "nbformat": 4,
 "nbformat_minor": 2
}
