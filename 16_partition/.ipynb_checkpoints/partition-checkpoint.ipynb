{
 "cells": [
  {
   "cell_type": "code",
   "execution_count": 1,
   "id": "22c92d23-7b8a-4bbf-8e7c-1787ac5e288f",
   "metadata": {
    "tags": []
   },
   "outputs": [],
   "source": [
    "def partition(lst, fn):\n",
    "    \"\"\"Partition lst by predicate.\n",
    "     \n",
    "     - lst: list of items\n",
    "     - fn: function that returns True or False\n",
    "     \n",
    "     Returns new list: [a, b], where `a` are items that passed fn test,\n",
    "     and `b` are items that failed fn test.\n",
    "\n",
    "        >>> def is_even(num):\n",
    "        ...     return num % 2 == 0\n",
    "        \n",
    "        >>> def is_string(el):\n",
    "        ...     return isinstance(el, str)\n",
    "        \n",
    "        >>> partition([1, 2, 3, 4], is_even)\n",
    "        [[2, 4], [1, 3]]\n",
    "        \n",
    "        >>> partition([\"hi\", None, 6, \"bye\"], is_string)\n",
    "        [['hi', 'bye'], [None, 6]]\n",
    "    \"\"\"\n",
    "    \n",
    "    list_true = []\n",
    "    list_false = []\n",
    "    \n",
    "    for val in lst:\n",
    "        if fn(val):\n",
    "            list_true.append(val)\n",
    "        else:\n",
    "            list_false.append(val)\n",
    "            \n",
    "    return [list_true, list_false]"
   ]
  },
  {
   "cell_type": "code",
   "execution_count": 2,
   "id": "4990b897-7861-4e19-862a-06e2fbdbb404",
   "metadata": {
    "tags": []
   },
   "outputs": [
    {
     "data": {
      "text/plain": [
       "[[2, 4], [1, 3]]"
      ]
     },
     "execution_count": 2,
     "metadata": {},
     "output_type": "execute_result"
    }
   ],
   "source": [
    "def is_even(num):\n",
    "    return num % 2 == 0\n",
    "\n",
    "partition([1, 2, 3, 4], is_even)"
   ]
  },
  {
   "cell_type": "code",
   "execution_count": 3,
   "id": "beb24826-f984-488c-a61d-d557e71c7148",
   "metadata": {
    "tags": []
   },
   "outputs": [
    {
     "data": {
      "text/plain": [
       "[['hi', 'bye'], [None, 6]]"
      ]
     },
     "execution_count": 3,
     "metadata": {},
     "output_type": "execute_result"
    }
   ],
   "source": [
    "def is_string(el):\n",
    "    return isinstance(el, str)\n",
    "\n",
    "partition([\"hi\", None, 6, \"bye\"], is_string)"
   ]
  }
 ],
 "metadata": {
  "kernelspec": {
   "display_name": "Python 3 (ipykernel)",
   "language": "python",
   "name": "python3"
  },
  "language_info": {
   "codemirror_mode": {
    "name": "ipython",
    "version": 3
   },
   "file_extension": ".py",
   "mimetype": "text/x-python",
   "name": "python",
   "nbconvert_exporter": "python",
   "pygments_lexer": "ipython3",
   "version": "3.11.5"
  }
 },
 "nbformat": 4,
 "nbformat_minor": 5
}
