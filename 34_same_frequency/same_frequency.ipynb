{
 "cells": [
  {
   "cell_type": "code",
   "execution_count": 1,
   "id": "e694bccb-fb65-45b6-82ed-0e70da511bfa",
   "metadata": {},
   "outputs": [],
   "source": [
    "def freq_count(coll):\n",
    "    \n",
    "    counts = {}\n",
    "    \n",
    "    for x in coll:\n",
    "        counts[x] = counts.get(x, 0) + 1\n",
    "        \n",
    "    return counts    \n",
    "\n",
    "\n",
    "def same_frequency(num1, num2):\n",
    "    \"\"\"Do these nums have same frequencies of digits?\n",
    "    \n",
    "        >>> same_frequency(551122, 221515)\n",
    "        True\n",
    "        \n",
    "        >>> same_frequency(321142, 3212215)\n",
    "        False\n",
    "        \n",
    "        >>> same_frequency(1212, 2211)\n",
    "        True\n",
    "    \"\"\"\n",
    "    \n",
    "    return freq_count(str(num1)) == freq_count(str(num2))"
   ]
  },
  {
   "cell_type": "code",
   "execution_count": 2,
   "id": "bbbadc7a-cc8b-4e73-90da-12131e2ba903",
   "metadata": {
    "tags": []
   },
   "outputs": [
    {
     "data": {
      "text/plain": [
       "True"
      ]
     },
     "execution_count": 2,
     "metadata": {},
     "output_type": "execute_result"
    }
   ],
   "source": [
    "same_frequency(551122, 221515)"
   ]
  },
  {
   "cell_type": "code",
   "execution_count": 3,
   "id": "3bfd101a-2f0e-4f5f-be57-93afb8e2b058",
   "metadata": {
    "tags": []
   },
   "outputs": [
    {
     "data": {
      "text/plain": [
       "False"
      ]
     },
     "execution_count": 3,
     "metadata": {},
     "output_type": "execute_result"
    }
   ],
   "source": [
    "same_frequency(321142, 3212215)"
   ]
  },
  {
   "cell_type": "code",
   "execution_count": 4,
   "id": "b72659d9-2b67-44b2-93f5-a2e641075d2d",
   "metadata": {
    "tags": []
   },
   "outputs": [
    {
     "data": {
      "text/plain": [
       "True"
      ]
     },
     "execution_count": 4,
     "metadata": {},
     "output_type": "execute_result"
    }
   ],
   "source": [
    "same_frequency(1212, 2211)"
   ]
  }
 ],
 "metadata": {
  "kernelspec": {
   "display_name": "Python 3 (ipykernel)",
   "language": "python",
   "name": "python3"
  },
  "language_info": {
   "codemirror_mode": {
    "name": "ipython",
    "version": 3
   },
   "file_extension": ".py",
   "mimetype": "text/x-python",
   "name": "python",
   "nbconvert_exporter": "python",
   "pygments_lexer": "ipython3",
   "version": "3.11.5"
  }
 },
 "nbformat": 4,
 "nbformat_minor": 5
}
