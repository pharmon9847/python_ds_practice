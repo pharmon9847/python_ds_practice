{
 "cells": [
  {
   "cell_type": "code",
   "execution_count": null,
   "id": "e694bccb-fb65-45b6-82ed-0e70da511bfa",
   "metadata": {},
   "outputs": [],
   "source": [
    "def same_frequency(num1, num2):\n",
    "    \"\"\"Do these nums have same frequencies of digits?\n",
    "    \n",
    "        >>> same_frequency(551122, 221515)\n",
    "        True\n",
    "        \n",
    "        >>> same_frequency(321142, 3212215)\n",
    "        False\n",
    "        \n",
    "        >>> same_frequency(1212, 2211)\n",
    "        True\n",
    "    \"\"\""
   ]
  }
 ],
 "metadata": {
  "kernelspec": {
   "display_name": "Python 3 (ipykernel)",
   "language": "python",
   "name": "python3"
  },
  "language_info": {
   "codemirror_mode": {
    "name": "ipython",
    "version": 3
   },
   "file_extension": ".py",
   "mimetype": "text/x-python",
   "name": "python",
   "nbconvert_exporter": "python",
   "pygments_lexer": "ipython3",
   "version": "3.11.5"
  }
 },
 "nbformat": 4,
 "nbformat_minor": 5
}
